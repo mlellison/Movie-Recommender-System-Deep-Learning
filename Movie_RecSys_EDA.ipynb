{
 "cells": [
  {
   "cell_type": "markdown",
   "id": "d3cb697b",
   "metadata": {},
   "source": [
    "### Movies Dataset EDA and Output Preprocessed Files"
   ]
  },
  {
   "cell_type": "code",
   "execution_count": 2,
   "id": "3b69e0d3",
   "metadata": {},
   "outputs": [],
   "source": [
    "import pandas as pd\n",
    "import numpy as np\n",
    "import re\n",
    "from sklearn.preprocessing import LabelEncoder, OneHotEncoder\n",
    "\n",
    "import seaborn as sns\n",
    "import matplotlib.pyplot as plt\n",
    "%matplotlib inline\n",
    "\n",
    "import datetime"
   ]
  },
  {
   "cell_type": "markdown",
   "id": "bc06b54d",
   "metadata": {},
   "source": [
    "### Load Raw Data"
   ]
  },
  {
   "cell_type": "code",
   "execution_count": 4,
   "id": "6c20d265",
   "metadata": {},
   "outputs": [
    {
     "data": {
      "text/plain": [
       "Index(['movieId', 'title', 'genres'], dtype='object')"
      ]
     },
     "execution_count": 4,
     "metadata": {},
     "output_type": "execute_result"
    }
   ],
   "source": [
    "movies = pd.read_csv('./data/movies.csv')\n",
    "movies.columns"
   ]
  },
  {
   "cell_type": "code",
   "execution_count": 14,
   "id": "10f83369",
   "metadata": {},
   "outputs": [
    {
     "data": {
      "text/plain": [
       "Index(['userId', 'movieId', 'rating', 'timestamp'], dtype='object')"
      ]
     },
     "execution_count": 14,
     "metadata": {},
     "output_type": "execute_result"
    }
   ],
   "source": [
    "ratings = pd.read_csv('./data/ratings.csv')\n",
    "ratings.columns"
   ]
  },
  {
   "cell_type": "code",
   "execution_count": 21,
   "id": "e9c7acb3",
   "metadata": {},
   "outputs": [
    {
     "data": {
      "text/plain": [
       "(1093360, 4)"
      ]
     },
     "execution_count": 21,
     "metadata": {},
     "output_type": "execute_result"
    }
   ],
   "source": [
    "### User Input Tags\n",
    "tags = pd.read_csv('./data/tags.csv')\n",
    "tags.tag = tags.tag.astype(str)\n",
    "tags.shape"
   ]
  },
  {
   "cell_type": "code",
   "execution_count": 19,
   "id": "c76a0efc",
   "metadata": {
    "scrolled": true
   },
   "outputs": [
    {
     "data": {
      "text/plain": [
       "(1128, 2)"
      ]
     },
     "execution_count": 19,
     "metadata": {},
     "output_type": "execute_result"
    }
   ],
   "source": [
    "genomeTags = pd.read_csv('./data/genome-tags.csv')\n",
    "genomeTags.shape"
   ]
  },
  {
   "cell_type": "code",
   "execution_count": 20,
   "id": "1a10c49d",
   "metadata": {},
   "outputs": [
    {
     "data": {
      "text/plain": [
       "(15584448, 3)"
      ]
     },
     "execution_count": 20,
     "metadata": {},
     "output_type": "execute_result"
    }
   ],
   "source": [
    "genomeScores = pd.read_csv('./data/genome-scores.csv')\n",
    "genomeScores.shape"
   ]
  },
  {
   "cell_type": "markdown",
   "id": "b384d312",
   "metadata": {},
   "source": [
    "### Movies Database "
   ]
  },
  {
   "cell_type": "markdown",
   "id": "3a995240",
   "metadata": {},
   "source": [
    "#### Feature Engineering \n",
    "#### Extract and Categorize Release Dates to Movie Eras"
   ]
  },
  {
   "cell_type": "code",
   "execution_count": 5,
   "id": "97be20de",
   "metadata": {},
   "outputs": [
    {
     "data": {
      "text/plain": [
       "62423"
      ]
     },
     "execution_count": 5,
     "metadata": {},
     "output_type": "execute_result"
    }
   ],
   "source": [
    "releaseYr = []\n",
    "for i in movies.title:\n",
    "    try:\n",
    "        releaseYr.append(re.search('\\((\\d\\d\\d\\d)\\)',i).group(1))\n",
    "    except: releaseYr.append('2015') # assign to yr with large num releases to not skew other data\n",
    "len(releaseYr)"
   ]
  },
  {
   "cell_type": "code",
   "execution_count": 6,
   "id": "d917bd9c",
   "metadata": {},
   "outputs": [],
   "source": [
    "movies['releaseYr'] = pd.DataFrame(releaseYr)"
   ]
  },
  {
   "cell_type": "code",
   "execution_count": 7,
   "id": "af32c730",
   "metadata": {},
   "outputs": [],
   "source": [
    "movies.releaseYr = pd.to_datetime(movies.releaseYr)\n",
    "movies.releaseYr = movies.releaseYr.dt.year"
   ]
  },
  {
   "cell_type": "code",
   "execution_count": 8,
   "id": "58b678b1",
   "metadata": {},
   "outputs": [
    {
     "data": {
      "text/plain": [
       "2015"
      ]
     },
     "execution_count": 8,
     "metadata": {},
     "output_type": "execute_result"
    }
   ],
   "source": [
    "# 15036, 26284, 62104, 62380\n",
    "movies.releaseYr[62380]  # movies with no release date info assigned to 2015, 410 out of 2923 values"
   ]
  },
  {
   "cell_type": "code",
   "execution_count": 293,
   "id": "2f892980",
   "metadata": {
    "scrolled": true
   },
   "outputs": [
    {
     "data": {
      "text/plain": [
       "<AxesSubplot:>"
      ]
     },
     "execution_count": 293,
     "metadata": {},
     "output_type": "execute_result"
    },
    {
     "data": {
      "image/png": "[encoded data removed]",
      "text/plain": [
       "<Figure size 432x288 with 1 Axes>"
      ]
     },
     "metadata": {
      "needs_background": "light"
     },
     "output_type": "display_data"
    }
   ],
   "source": [
    "#movies[movies.releaseYr !=0].releaseYr.value_counts()[::-1].plot.area(rot=45)\n",
    "movies[movies.releaseYr > 1970].releaseYr.value_counts().plot.bar(rot=45)"
   ]
  },
  {
   "cell_type": "code",
   "execution_count": 9,
   "id": "aad329a6",
   "metadata": {},
   "outputs": [
    {
     "data": {
      "text/html": [
       "<div>\n",
       "<style scoped>\n",
       "    .dataframe tbody tr th:only-of-type {\n",
       "        vertical-align: middle;\n",
       "    }\n",
       "\n",
       "    .dataframe tbody tr th {\n",
       "        vertical-align: top;\n",
       "    }\n",
       "\n",
       "    .dataframe thead th {\n",
       "        text-align: right;\n",
       "    }\n",
       "</style>\n",
       "<table border=\"1\" class=\"dataframe\">\n",
       "  <thead>\n",
       "    <tr style=\"text-align: right;\">\n",
       "      <th></th>\n",
       "      <th>movieId</th>\n",
       "      <th>title</th>\n",
       "      <th>genres</th>\n",
       "      <th>releaseYr</th>\n",
       "      <th>era</th>\n",
       "    </tr>\n",
       "  </thead>\n",
       "  <tbody>\n",
       "    <tr>\n",
       "      <th>0</th>\n",
       "      <td>1</td>\n",
       "      <td>Toy Story (1995)</td>\n",
       "      <td>Adventure|Animation|Children|Comedy|Fantasy</td>\n",
       "      <td>1995</td>\n",
       "      <td>Blockbuster</td>\n",
       "    </tr>\n",
       "    <tr>\n",
       "      <th>1</th>\n",
       "      <td>2</td>\n",
       "      <td>Jumanji (1995)</td>\n",
       "      <td>Adventure|Children|Fantasy</td>\n",
       "      <td>1995</td>\n",
       "      <td>Blockbuster</td>\n",
       "    </tr>\n",
       "    <tr>\n",
       "      <th>2</th>\n",
       "      <td>3</td>\n",
       "      <td>Grumpier Old Men (1995)</td>\n",
       "      <td>Comedy|Romance</td>\n",
       "      <td>1995</td>\n",
       "      <td>Blockbuster</td>\n",
       "    </tr>\n",
       "    <tr>\n",
       "      <th>3</th>\n",
       "      <td>4</td>\n",
       "      <td>Waiting to Exhale (1995)</td>\n",
       "      <td>Comedy|Drama|Romance</td>\n",
       "      <td>1995</td>\n",
       "      <td>Blockbuster</td>\n",
       "    </tr>\n",
       "    <tr>\n",
       "      <th>4</th>\n",
       "      <td>5</td>\n",
       "      <td>Father of the Bride Part II (1995)</td>\n",
       "      <td>Comedy</td>\n",
       "      <td>1995</td>\n",
       "      <td>Blockbuster</td>\n",
       "    </tr>\n",
       "    <tr>\n",
       "      <th>...</th>\n",
       "      <td>...</td>\n",
       "      <td>...</td>\n",
       "      <td>...</td>\n",
       "      <td>...</td>\n",
       "      <td>...</td>\n",
       "    </tr>\n",
       "    <tr>\n",
       "      <th>62418</th>\n",
       "      <td>209157</td>\n",
       "      <td>We (2018)</td>\n",
       "      <td>Drama</td>\n",
       "      <td>2018</td>\n",
       "      <td>Modern</td>\n",
       "    </tr>\n",
       "    <tr>\n",
       "      <th>62419</th>\n",
       "      <td>209159</td>\n",
       "      <td>Window of the Soul (2001)</td>\n",
       "      <td>Documentary</td>\n",
       "      <td>2001</td>\n",
       "      <td>Modern</td>\n",
       "    </tr>\n",
       "    <tr>\n",
       "      <th>62420</th>\n",
       "      <td>209163</td>\n",
       "      <td>Bad Poems (2018)</td>\n",
       "      <td>Comedy|Drama</td>\n",
       "      <td>2018</td>\n",
       "      <td>Modern</td>\n",
       "    </tr>\n",
       "    <tr>\n",
       "      <th>62421</th>\n",
       "      <td>209169</td>\n",
       "      <td>A Girl Thing (2001)</td>\n",
       "      <td>(no genres listed)</td>\n",
       "      <td>2001</td>\n",
       "      <td>Modern</td>\n",
       "    </tr>\n",
       "    <tr>\n",
       "      <th>62422</th>\n",
       "      <td>209171</td>\n",
       "      <td>Women of Devil's Island (1962)</td>\n",
       "      <td>Action|Adventure|Drama</td>\n",
       "      <td>1962</td>\n",
       "      <td>Change</td>\n",
       "    </tr>\n",
       "  </tbody>\n",
       "</table>\n",
       "<p>62423 rows × 5 columns</p>\n",
       "</div>"
      ],
      "text/plain": [
       "       movieId                               title  \\\n",
       "0            1                    Toy Story (1995)   \n",
       "1            2                      Jumanji (1995)   \n",
       "2            3             Grumpier Old Men (1995)   \n",
       "3            4            Waiting to Exhale (1995)   \n",
       "4            5  Father of the Bride Part II (1995)   \n",
       "...        ...                                 ...   \n",
       "62418   209157                           We (2018)   \n",
       "62419   209159           Window of the Soul (2001)   \n",
       "62420   209163                    Bad Poems (2018)   \n",
       "62421   209169                 A Girl Thing (2001)   \n",
       "62422   209171      Women of Devil's Island (1962)   \n",
       "\n",
       "                                            genres  releaseYr          era  \n",
       "0      Adventure|Animation|Children|Comedy|Fantasy       1995  Blockbuster  \n",
       "1                       Adventure|Children|Fantasy       1995  Blockbuster  \n",
       "2                                   Comedy|Romance       1995  Blockbuster  \n",
       "3                             Comedy|Drama|Romance       1995  Blockbuster  \n",
       "4                                           Comedy       1995  Blockbuster  \n",
       "...                                            ...        ...          ...  \n",
       "62418                                        Drama       2018       Modern  \n",
       "62419                                  Documentary       2001       Modern  \n",
       "62420                                 Comedy|Drama       2018       Modern  \n",
       "62421                           (no genres listed)       2001       Modern  \n",
       "62422                       Action|Adventure|Drama       1962       Change  \n",
       "\n",
       "[62423 rows x 5 columns]"
      ]
     },
     "execution_count": 9,
     "metadata": {},
     "output_type": "execute_result"
    }
   ],
   "source": [
    "# Movie Eras defined in: http://www.historyoffilm.net/movie-eras/history-of-cinema/\n",
    "\n",
    "bins = [0,1910,1926,1940,1954,1976,1999,3000]\n",
    "labels = ['Pioneer', 'Silent', 'Studio', 'Golden', 'Change', 'Blockbuster', 'Modern']\n",
    "movies['era'] = pd.cut(movies.releaseYr, bins=bins, labels=labels, right=False)\n",
    "movies"
   ]
  },
  {
   "cell_type": "code",
   "execution_count": 295,
   "id": "9c92f077",
   "metadata": {},
   "outputs": [
    {
     "data": {
      "text/plain": [
       "<AxesSubplot:>"
      ]
     },
     "execution_count": 295,
     "metadata": {},
     "output_type": "execute_result"
    },
    {
     "data": {
      "image/png": "[encoded data removed]",
      "text/plain": [
       "<Figure size 432x288 with 1 Axes>"
      ]
     },
     "metadata": {
      "needs_background": "light"
     },
     "output_type": "display_data"
    }
   ],
   "source": [
    "movies.era.value_counts()[::-1].plot.bar(rot=45)"
   ]
  },
  {
   "cell_type": "code",
   "execution_count": 10,
   "id": "7568e2cb",
   "metadata": {},
   "outputs": [],
   "source": [
    "# OneHotEncode 'era' col\n",
    "movies = pd.concat([movies, pd.get_dummies(movies.era, drop_first=True)], axis=1)"
   ]
  },
  {
   "cell_type": "markdown",
   "id": "15e1b27c",
   "metadata": {},
   "source": [
    "#### Extract Genres"
   ]
  },
  {
   "cell_type": "code",
   "execution_count": 11,
   "id": "d4d98027",
   "metadata": {},
   "outputs": [],
   "source": [
    "# OneHotEncode 'genres' col\n",
    "genres = [i.split(\"|\") for i in movies['genres'].unique()]\n",
    "columns = list(set([i for genre in genres for i in genre]))\n",
    "columns.remove('(no genres listed)')  # equiv to conducting a 'drop_first'\n",
    "\n",
    "for col in columns:\n",
    "    movies[col] = movies['genres'].apply(lambda x: 1 if col in x else 0)"
   ]
  },
  {
   "cell_type": "code",
   "execution_count": 12,
   "id": "d4dec95e",
   "metadata": {},
   "outputs": [
    {
     "data": {
      "text/plain": [
       "(62423, 30)"
      ]
     },
     "execution_count": 12,
     "metadata": {},
     "output_type": "execute_result"
    }
   ],
   "source": [
    "movies.shape"
   ]
  },
  {
   "cell_type": "code",
   "execution_count": 310,
   "id": "2cc9f417",
   "metadata": {},
   "outputs": [],
   "source": [
    "# Visualizing sparse matrix"
   ]
  },
  {
   "cell_type": "code",
   "execution_count": 160,
   "id": "8b986dd1",
   "metadata": {},
   "outputs": [
    {
     "data": {
      "image/png": "[encoded data removed]",
      "text/plain": [
       "<Figure size 1440x360 with 1 Axes>"
      ]
     },
     "metadata": {
      "needs_background": "light"
     },
     "output_type": "display_data"
    }
   ],
   "source": [
    "fig, ax = plt.subplots(figsize=(20,5))\n",
    "sns.heatmap(movies==0, vmin=0, vmax=1, cbar=False, ax=ax).set_title(\"Products x Features\")\n",
    "plt.show()"
   ]
  },
  {
   "cell_type": "markdown",
   "id": "f4ab7ff6",
   "metadata": {},
   "source": [
    "#### Adding Avg User Assigned Ratings "
   ]
  },
  {
   "cell_type": "code",
   "execution_count": 18,
   "id": "2d21b9ea",
   "metadata": {},
   "outputs": [
    {
     "data": {
      "text/plain": [
       "(62423, 31)"
      ]
     },
     "execution_count": 18,
     "metadata": {},
     "output_type": "execute_result"
    }
   ],
   "source": [
    "# Getting mean ratings per movie\n",
    "movies = movies.merge(pd.DataFrame(ratings.groupby('movieId').rating.mean()), how='left', left_on='movieId', right_index=True)\n",
    "movies.shape"
   ]
  },
  {
   "cell_type": "code",
   "execution_count": 112,
   "id": "ecc5bafe",
   "metadata": {},
   "outputs": [],
   "source": [
    "# Make ratings bins\n",
    "\n",
    "movies['ratingBins'], cut_bin = pd.qcut(movies.rating, q = 3, labels = ['belowAvg', 'Avg', 'aboveAvg'], retbins = True)\n",
    "movies.ratingBins = movies.ratingBins.astype(str)"
   ]
  },
  {
   "cell_type": "markdown",
   "id": "6bd5eb59",
   "metadata": {},
   "source": [
    "#### Add User Tags "
   ]
  },
  {
   "cell_type": "code",
   "execution_count": 86,
   "id": "d2b93250",
   "metadata": {},
   "outputs": [
    {
     "data": {
      "text/html": [
       "<div>\n",
       "<style scoped>\n",
       "    .dataframe tbody tr th:only-of-type {\n",
       "        vertical-align: middle;\n",
       "    }\n",
       "\n",
       "    .dataframe tbody tr th {\n",
       "        vertical-align: top;\n",
       "    }\n",
       "\n",
       "    .dataframe thead th {\n",
       "        text-align: right;\n",
       "    }\n",
       "</style>\n",
       "<table border=\"1\" class=\"dataframe\">\n",
       "  <thead>\n",
       "    <tr style=\"text-align: right;\">\n",
       "      <th></th>\n",
       "      <th>movieId</th>\n",
       "      <th>title</th>\n",
       "      <th>genres</th>\n",
       "      <th>releaseYr</th>\n",
       "      <th>era</th>\n",
       "      <th>Silent</th>\n",
       "      <th>Studio</th>\n",
       "      <th>Golden</th>\n",
       "      <th>Change</th>\n",
       "      <th>Blockbuster</th>\n",
       "      <th>...</th>\n",
       "      <th>Western</th>\n",
       "      <th>Adventure</th>\n",
       "      <th>Documentary</th>\n",
       "      <th>IMAX</th>\n",
       "      <th>Crime</th>\n",
       "      <th>War</th>\n",
       "      <th>Horror</th>\n",
       "      <th>Animation</th>\n",
       "      <th>rating</th>\n",
       "      <th>userTag</th>\n",
       "    </tr>\n",
       "  </thead>\n",
       "  <tbody>\n",
       "    <tr>\n",
       "      <th>0</th>\n",
       "      <td>1</td>\n",
       "      <td>Toy Story (1995)</td>\n",
       "      <td>Adventure|Animation|Children|Comedy|Fantasy</td>\n",
       "      <td>1995</td>\n",
       "      <td>Blockbuster</td>\n",
       "      <td>0</td>\n",
       "      <td>0</td>\n",
       "      <td>0</td>\n",
       "      <td>0</td>\n",
       "      <td>1</td>\n",
       "      <td>...</td>\n",
       "      <td>0</td>\n",
       "      <td>1</td>\n",
       "      <td>0</td>\n",
       "      <td>0</td>\n",
       "      <td>0</td>\n",
       "      <td>0</td>\n",
       "      <td>0</td>\n",
       "      <td>1</td>\n",
       "      <td>3.893708</td>\n",
       "      <td>Owned imdb top 250 Pixar Pixar time travel chi...</td>\n",
       "    </tr>\n",
       "    <tr>\n",
       "      <th>1</th>\n",
       "      <td>2</td>\n",
       "      <td>Jumanji (1995)</td>\n",
       "      <td>Adventure|Children|Fantasy</td>\n",
       "      <td>1995</td>\n",
       "      <td>Blockbuster</td>\n",
       "      <td>0</td>\n",
       "      <td>0</td>\n",
       "      <td>0</td>\n",
       "      <td>0</td>\n",
       "      <td>1</td>\n",
       "      <td>...</td>\n",
       "      <td>0</td>\n",
       "      <td>1</td>\n",
       "      <td>0</td>\n",
       "      <td>0</td>\n",
       "      <td>0</td>\n",
       "      <td>0</td>\n",
       "      <td>0</td>\n",
       "      <td>0</td>\n",
       "      <td>3.251527</td>\n",
       "      <td>Robin Williams time travel fantasy based on ch...</td>\n",
       "    </tr>\n",
       "    <tr>\n",
       "      <th>2</th>\n",
       "      <td>3</td>\n",
       "      <td>Grumpier Old Men (1995)</td>\n",
       "      <td>Comedy|Romance</td>\n",
       "      <td>1995</td>\n",
       "      <td>Blockbuster</td>\n",
       "      <td>0</td>\n",
       "      <td>0</td>\n",
       "      <td>0</td>\n",
       "      <td>0</td>\n",
       "      <td>1</td>\n",
       "      <td>...</td>\n",
       "      <td>0</td>\n",
       "      <td>0</td>\n",
       "      <td>0</td>\n",
       "      <td>0</td>\n",
       "      <td>0</td>\n",
       "      <td>0</td>\n",
       "      <td>0</td>\n",
       "      <td>0</td>\n",
       "      <td>3.142028</td>\n",
       "      <td>funny best friend duringcreditsstinger fishing...</td>\n",
       "    </tr>\n",
       "    <tr>\n",
       "      <th>3</th>\n",
       "      <td>4</td>\n",
       "      <td>Waiting to Exhale (1995)</td>\n",
       "      <td>Comedy|Drama|Romance</td>\n",
       "      <td>1995</td>\n",
       "      <td>Blockbuster</td>\n",
       "      <td>0</td>\n",
       "      <td>0</td>\n",
       "      <td>0</td>\n",
       "      <td>0</td>\n",
       "      <td>1</td>\n",
       "      <td>...</td>\n",
       "      <td>0</td>\n",
       "      <td>0</td>\n",
       "      <td>0</td>\n",
       "      <td>0</td>\n",
       "      <td>0</td>\n",
       "      <td>0</td>\n",
       "      <td>0</td>\n",
       "      <td>0</td>\n",
       "      <td>2.853547</td>\n",
       "      <td>based on novel or book chick flick divorce int...</td>\n",
       "    </tr>\n",
       "    <tr>\n",
       "      <th>4</th>\n",
       "      <td>5</td>\n",
       "      <td>Father of the Bride Part II (1995)</td>\n",
       "      <td>Comedy</td>\n",
       "      <td>1995</td>\n",
       "      <td>Blockbuster</td>\n",
       "      <td>0</td>\n",
       "      <td>0</td>\n",
       "      <td>0</td>\n",
       "      <td>0</td>\n",
       "      <td>1</td>\n",
       "      <td>...</td>\n",
       "      <td>0</td>\n",
       "      <td>0</td>\n",
       "      <td>0</td>\n",
       "      <td>0</td>\n",
       "      <td>0</td>\n",
       "      <td>0</td>\n",
       "      <td>0</td>\n",
       "      <td>0</td>\n",
       "      <td>3.058434</td>\n",
       "      <td>aging baby confidence daughter gynecologist mi...</td>\n",
       "    </tr>\n",
       "  </tbody>\n",
       "</table>\n",
       "<p>5 rows × 32 columns</p>\n",
       "</div>"
      ],
      "text/plain": [
       "   movieId                               title  \\\n",
       "0        1                    Toy Story (1995)   \n",
       "1        2                      Jumanji (1995)   \n",
       "2        3             Grumpier Old Men (1995)   \n",
       "3        4            Waiting to Exhale (1995)   \n",
       "4        5  Father of the Bride Part II (1995)   \n",
       "\n",
       "                                        genres  releaseYr          era  \\\n",
       "0  Adventure|Animation|Children|Comedy|Fantasy       1995  Blockbuster   \n",
       "1                   Adventure|Children|Fantasy       1995  Blockbuster   \n",
       "2                               Comedy|Romance       1995  Blockbuster   \n",
       "3                         Comedy|Drama|Romance       1995  Blockbuster   \n",
       "4                                       Comedy       1995  Blockbuster   \n",
       "\n",
       "   Silent  Studio  Golden  Change  Blockbuster  ...  Western  Adventure  \\\n",
       "0       0       0       0       0            1  ...        0          1   \n",
       "1       0       0       0       0            1  ...        0          1   \n",
       "2       0       0       0       0            1  ...        0          0   \n",
       "3       0       0       0       0            1  ...        0          0   \n",
       "4       0       0       0       0            1  ...        0          0   \n",
       "\n",
       "   Documentary  IMAX  Crime  War  Horror  Animation    rating  \\\n",
       "0            0     0      0    0       0          1  3.893708   \n",
       "1            0     0      0    0       0          0  3.251527   \n",
       "2            0     0      0    0       0          0  3.142028   \n",
       "3            0     0      0    0       0          0  2.853547   \n",
       "4            0     0      0    0       0          0  3.058434   \n",
       "\n",
       "                                             userTag  \n",
       "0  Owned imdb top 250 Pixar Pixar time travel chi...  \n",
       "1  Robin Williams time travel fantasy based on ch...  \n",
       "2  funny best friend duringcreditsstinger fishing...  \n",
       "3  based on novel or book chick flick divorce int...  \n",
       "4  aging baby confidence daughter gynecologist mi...  \n",
       "\n",
       "[5 rows x 32 columns]"
      ]
     },
     "execution_count": 86,
     "metadata": {},
     "output_type": "execute_result"
    }
   ],
   "source": [
    "# run code below for user tags first\n",
    "movies = movies.merge(userTags, how='left', on='movieId')\n",
    "movies.userTag = movies.userTag.fillna('')\n",
    "movies.head()"
   ]
  },
  {
   "cell_type": "markdown",
   "id": "f4854b69",
   "metadata": {},
   "source": [
    "#### Genres as String Value"
   ]
  },
  {
   "cell_type": "code",
   "execution_count": 87,
   "id": "4a08f0a6",
   "metadata": {},
   "outputs": [
    {
     "name": "stderr",
     "output_type": "stream",
     "text": [
      "C:\\Users\\kforkai\\AppData\\Local\\Temp\\ipykernel_37404\\4130110011.py:1: FutureWarning: The default value of regex will change from True to False in a future version. In addition, single character regular expressions will *not* be treated as literal strings when regex=True.\n",
      "  movies['genreStr'] = movies.genres.str.replace('|',' ').replace('(no genres listed)','')\n"
     ]
    },
    {
     "data": {
      "text/html": [
       "<div>\n",
       "<style scoped>\n",
       "    .dataframe tbody tr th:only-of-type {\n",
       "        vertical-align: middle;\n",
       "    }\n",
       "\n",
       "    .dataframe tbody tr th {\n",
       "        vertical-align: top;\n",
       "    }\n",
       "\n",
       "    .dataframe thead th {\n",
       "        text-align: right;\n",
       "    }\n",
       "</style>\n",
       "<table border=\"1\" class=\"dataframe\">\n",
       "  <thead>\n",
       "    <tr style=\"text-align: right;\">\n",
       "      <th></th>\n",
       "      <th>movieId</th>\n",
       "      <th>title</th>\n",
       "      <th>genres</th>\n",
       "      <th>releaseYr</th>\n",
       "      <th>era</th>\n",
       "      <th>Silent</th>\n",
       "      <th>Studio</th>\n",
       "      <th>Golden</th>\n",
       "      <th>Change</th>\n",
       "      <th>Blockbuster</th>\n",
       "      <th>...</th>\n",
       "      <th>Adventure</th>\n",
       "      <th>Documentary</th>\n",
       "      <th>IMAX</th>\n",
       "      <th>Crime</th>\n",
       "      <th>War</th>\n",
       "      <th>Horror</th>\n",
       "      <th>Animation</th>\n",
       "      <th>rating</th>\n",
       "      <th>userTag</th>\n",
       "      <th>genreStr</th>\n",
       "    </tr>\n",
       "  </thead>\n",
       "  <tbody>\n",
       "    <tr>\n",
       "      <th>0</th>\n",
       "      <td>1</td>\n",
       "      <td>Toy Story (1995)</td>\n",
       "      <td>Adventure|Animation|Children|Comedy|Fantasy</td>\n",
       "      <td>1995</td>\n",
       "      <td>Blockbuster</td>\n",
       "      <td>0</td>\n",
       "      <td>0</td>\n",
       "      <td>0</td>\n",
       "      <td>0</td>\n",
       "      <td>1</td>\n",
       "      <td>...</td>\n",
       "      <td>1</td>\n",
       "      <td>0</td>\n",
       "      <td>0</td>\n",
       "      <td>0</td>\n",
       "      <td>0</td>\n",
       "      <td>0</td>\n",
       "      <td>1</td>\n",
       "      <td>3.893708</td>\n",
       "      <td>Owned imdb top 250 Pixar Pixar time travel chi...</td>\n",
       "      <td>Adventure Animation Children Comedy Fantasy</td>\n",
       "    </tr>\n",
       "    <tr>\n",
       "      <th>1</th>\n",
       "      <td>2</td>\n",
       "      <td>Jumanji (1995)</td>\n",
       "      <td>Adventure|Children|Fantasy</td>\n",
       "      <td>1995</td>\n",
       "      <td>Blockbuster</td>\n",
       "      <td>0</td>\n",
       "      <td>0</td>\n",
       "      <td>0</td>\n",
       "      <td>0</td>\n",
       "      <td>1</td>\n",
       "      <td>...</td>\n",
       "      <td>1</td>\n",
       "      <td>0</td>\n",
       "      <td>0</td>\n",
       "      <td>0</td>\n",
       "      <td>0</td>\n",
       "      <td>0</td>\n",
       "      <td>0</td>\n",
       "      <td>3.251527</td>\n",
       "      <td>Robin Williams time travel fantasy based on ch...</td>\n",
       "      <td>Adventure Children Fantasy</td>\n",
       "    </tr>\n",
       "    <tr>\n",
       "      <th>2</th>\n",
       "      <td>3</td>\n",
       "      <td>Grumpier Old Men (1995)</td>\n",
       "      <td>Comedy|Romance</td>\n",
       "      <td>1995</td>\n",
       "      <td>Blockbuster</td>\n",
       "      <td>0</td>\n",
       "      <td>0</td>\n",
       "      <td>0</td>\n",
       "      <td>0</td>\n",
       "      <td>1</td>\n",
       "      <td>...</td>\n",
       "      <td>0</td>\n",
       "      <td>0</td>\n",
       "      <td>0</td>\n",
       "      <td>0</td>\n",
       "      <td>0</td>\n",
       "      <td>0</td>\n",
       "      <td>0</td>\n",
       "      <td>3.142028</td>\n",
       "      <td>funny best friend duringcreditsstinger fishing...</td>\n",
       "      <td>Comedy Romance</td>\n",
       "    </tr>\n",
       "    <tr>\n",
       "      <th>3</th>\n",
       "      <td>4</td>\n",
       "      <td>Waiting to Exhale (1995)</td>\n",
       "      <td>Comedy|Drama|Romance</td>\n",
       "      <td>1995</td>\n",
       "      <td>Blockbuster</td>\n",
       "      <td>0</td>\n",
       "      <td>0</td>\n",
       "      <td>0</td>\n",
       "      <td>0</td>\n",
       "      <td>1</td>\n",
       "      <td>...</td>\n",
       "      <td>0</td>\n",
       "      <td>0</td>\n",
       "      <td>0</td>\n",
       "      <td>0</td>\n",
       "      <td>0</td>\n",
       "      <td>0</td>\n",
       "      <td>0</td>\n",
       "      <td>2.853547</td>\n",
       "      <td>based on novel or book chick flick divorce int...</td>\n",
       "      <td>Comedy Drama Romance</td>\n",
       "    </tr>\n",
       "    <tr>\n",
       "      <th>4</th>\n",
       "      <td>5</td>\n",
       "      <td>Father of the Bride Part II (1995)</td>\n",
       "      <td>Comedy</td>\n",
       "      <td>1995</td>\n",
       "      <td>Blockbuster</td>\n",
       "      <td>0</td>\n",
       "      <td>0</td>\n",
       "      <td>0</td>\n",
       "      <td>0</td>\n",
       "      <td>1</td>\n",
       "      <td>...</td>\n",
       "      <td>0</td>\n",
       "      <td>0</td>\n",
       "      <td>0</td>\n",
       "      <td>0</td>\n",
       "      <td>0</td>\n",
       "      <td>0</td>\n",
       "      <td>0</td>\n",
       "      <td>3.058434</td>\n",
       "      <td>aging baby confidence daughter gynecologist mi...</td>\n",
       "      <td>Comedy</td>\n",
       "    </tr>\n",
       "  </tbody>\n",
       "</table>\n",
       "<p>5 rows × 33 columns</p>\n",
       "</div>"
      ],
      "text/plain": [
       "   movieId                               title  \\\n",
       "0        1                    Toy Story (1995)   \n",
       "1        2                      Jumanji (1995)   \n",
       "2        3             Grumpier Old Men (1995)   \n",
       "3        4            Waiting to Exhale (1995)   \n",
       "4        5  Father of the Bride Part II (1995)   \n",
       "\n",
       "                                        genres  releaseYr          era  \\\n",
       "0  Adventure|Animation|Children|Comedy|Fantasy       1995  Blockbuster   \n",
       "1                   Adventure|Children|Fantasy       1995  Blockbuster   \n",
       "2                               Comedy|Romance       1995  Blockbuster   \n",
       "3                         Comedy|Drama|Romance       1995  Blockbuster   \n",
       "4                                       Comedy       1995  Blockbuster   \n",
       "\n",
       "   Silent  Studio  Golden  Change  Blockbuster  ...  Adventure  Documentary  \\\n",
       "0       0       0       0       0            1  ...          1            0   \n",
       "1       0       0       0       0            1  ...          1            0   \n",
       "2       0       0       0       0            1  ...          0            0   \n",
       "3       0       0       0       0            1  ...          0            0   \n",
       "4       0       0       0       0            1  ...          0            0   \n",
       "\n",
       "   IMAX  Crime  War  Horror  Animation    rating  \\\n",
       "0     0      0    0       0          1  3.893708   \n",
       "1     0      0    0       0          0  3.251527   \n",
       "2     0      0    0       0          0  3.142028   \n",
       "3     0      0    0       0          0  2.853547   \n",
       "4     0      0    0       0          0  3.058434   \n",
       "\n",
       "                                             userTag  \\\n",
       "0  Owned imdb top 250 Pixar Pixar time travel chi...   \n",
       "1  Robin Williams time travel fantasy based on ch...   \n",
       "2  funny best friend duringcreditsstinger fishing...   \n",
       "3  based on novel or book chick flick divorce int...   \n",
       "4  aging baby confidence daughter gynecologist mi...   \n",
       "\n",
       "                                      genreStr  \n",
       "0  Adventure Animation Children Comedy Fantasy  \n",
       "1                   Adventure Children Fantasy  \n",
       "2                               Comedy Romance  \n",
       "3                         Comedy Drama Romance  \n",
       "4                                       Comedy  \n",
       "\n",
       "[5 rows x 33 columns]"
      ]
     },
     "execution_count": 87,
     "metadata": {},
     "output_type": "execute_result"
    }
   ],
   "source": [
    "movies['genreStr'] = movies.genres.str.replace('|',' ').replace('(no genres listed)','')\n",
    "movies.head()"
   ]
  },
  {
   "cell_type": "markdown",
   "id": "995897d4",
   "metadata": {},
   "source": [
    "#### Movie Titles Without Year"
   ]
  },
  {
   "cell_type": "code",
   "execution_count": 88,
   "id": "77969090",
   "metadata": {},
   "outputs": [
    {
     "data": {
      "text/plain": [
       "62423"
      ]
     },
     "execution_count": 88,
     "metadata": {},
     "output_type": "execute_result"
    }
   ],
   "source": [
    "titleClean = []\n",
    "\n",
    "for i in movies.title:\n",
    "    try: \n",
    "        titleClean.append(re.search('(.+)[^\\((\\d\\d\\d\\d)\\)]',i).group(1))\n",
    "    except: pass\n",
    "\n",
    "len(titleClean)"
   ]
  },
  {
   "cell_type": "code",
   "execution_count": 89,
   "id": "99972f1e",
   "metadata": {
    "scrolled": true
   },
   "outputs": [
    {
     "data": {
      "text/html": [
       "<div>\n",
       "<style scoped>\n",
       "    .dataframe tbody tr th:only-of-type {\n",
       "        vertical-align: middle;\n",
       "    }\n",
       "\n",
       "    .dataframe tbody tr th {\n",
       "        vertical-align: top;\n",
       "    }\n",
       "\n",
       "    .dataframe thead th {\n",
       "        text-align: right;\n",
       "    }\n",
       "</style>\n",
       "<table border=\"1\" class=\"dataframe\">\n",
       "  <thead>\n",
       "    <tr style=\"text-align: right;\">\n",
       "      <th></th>\n",
       "      <th>movieId</th>\n",
       "      <th>title</th>\n",
       "      <th>genres</th>\n",
       "      <th>releaseYr</th>\n",
       "      <th>era</th>\n",
       "      <th>Silent</th>\n",
       "      <th>Studio</th>\n",
       "      <th>Golden</th>\n",
       "      <th>Change</th>\n",
       "      <th>Blockbuster</th>\n",
       "      <th>...</th>\n",
       "      <th>Documentary</th>\n",
       "      <th>IMAX</th>\n",
       "      <th>Crime</th>\n",
       "      <th>War</th>\n",
       "      <th>Horror</th>\n",
       "      <th>Animation</th>\n",
       "      <th>rating</th>\n",
       "      <th>userTag</th>\n",
       "      <th>genreStr</th>\n",
       "      <th>movieName</th>\n",
       "    </tr>\n",
       "  </thead>\n",
       "  <tbody>\n",
       "    <tr>\n",
       "      <th>0</th>\n",
       "      <td>1</td>\n",
       "      <td>Toy Story (1995)</td>\n",
       "      <td>Adventure|Animation|Children|Comedy|Fantasy</td>\n",
       "      <td>1995</td>\n",
       "      <td>Blockbuster</td>\n",
       "      <td>0</td>\n",
       "      <td>0</td>\n",
       "      <td>0</td>\n",
       "      <td>0</td>\n",
       "      <td>1</td>\n",
       "      <td>...</td>\n",
       "      <td>0</td>\n",
       "      <td>0</td>\n",
       "      <td>0</td>\n",
       "      <td>0</td>\n",
       "      <td>0</td>\n",
       "      <td>1</td>\n",
       "      <td>3.893708</td>\n",
       "      <td>Owned imdb top 250 Pixar Pixar time travel chi...</td>\n",
       "      <td>Adventure Animation Children Comedy Fantasy</td>\n",
       "      <td>Toy Story</td>\n",
       "    </tr>\n",
       "    <tr>\n",
       "      <th>1</th>\n",
       "      <td>2</td>\n",
       "      <td>Jumanji (1995)</td>\n",
       "      <td>Adventure|Children|Fantasy</td>\n",
       "      <td>1995</td>\n",
       "      <td>Blockbuster</td>\n",
       "      <td>0</td>\n",
       "      <td>0</td>\n",
       "      <td>0</td>\n",
       "      <td>0</td>\n",
       "      <td>1</td>\n",
       "      <td>...</td>\n",
       "      <td>0</td>\n",
       "      <td>0</td>\n",
       "      <td>0</td>\n",
       "      <td>0</td>\n",
       "      <td>0</td>\n",
       "      <td>0</td>\n",
       "      <td>3.251527</td>\n",
       "      <td>Robin Williams time travel fantasy based on ch...</td>\n",
       "      <td>Adventure Children Fantasy</td>\n",
       "      <td>Jumanji</td>\n",
       "    </tr>\n",
       "    <tr>\n",
       "      <th>2</th>\n",
       "      <td>3</td>\n",
       "      <td>Grumpier Old Men (1995)</td>\n",
       "      <td>Comedy|Romance</td>\n",
       "      <td>1995</td>\n",
       "      <td>Blockbuster</td>\n",
       "      <td>0</td>\n",
       "      <td>0</td>\n",
       "      <td>0</td>\n",
       "      <td>0</td>\n",
       "      <td>1</td>\n",
       "      <td>...</td>\n",
       "      <td>0</td>\n",
       "      <td>0</td>\n",
       "      <td>0</td>\n",
       "      <td>0</td>\n",
       "      <td>0</td>\n",
       "      <td>0</td>\n",
       "      <td>3.142028</td>\n",
       "      <td>funny best friend duringcreditsstinger fishing...</td>\n",
       "      <td>Comedy Romance</td>\n",
       "      <td>Grumpier Old Men</td>\n",
       "    </tr>\n",
       "    <tr>\n",
       "      <th>3</th>\n",
       "      <td>4</td>\n",
       "      <td>Waiting to Exhale (1995)</td>\n",
       "      <td>Comedy|Drama|Romance</td>\n",
       "      <td>1995</td>\n",
       "      <td>Blockbuster</td>\n",
       "      <td>0</td>\n",
       "      <td>0</td>\n",
       "      <td>0</td>\n",
       "      <td>0</td>\n",
       "      <td>1</td>\n",
       "      <td>...</td>\n",
       "      <td>0</td>\n",
       "      <td>0</td>\n",
       "      <td>0</td>\n",
       "      <td>0</td>\n",
       "      <td>0</td>\n",
       "      <td>0</td>\n",
       "      <td>2.853547</td>\n",
       "      <td>based on novel or book chick flick divorce int...</td>\n",
       "      <td>Comedy Drama Romance</td>\n",
       "      <td>Waiting to Exhale</td>\n",
       "    </tr>\n",
       "    <tr>\n",
       "      <th>4</th>\n",
       "      <td>5</td>\n",
       "      <td>Father of the Bride Part II (1995)</td>\n",
       "      <td>Comedy</td>\n",
       "      <td>1995</td>\n",
       "      <td>Blockbuster</td>\n",
       "      <td>0</td>\n",
       "      <td>0</td>\n",
       "      <td>0</td>\n",
       "      <td>0</td>\n",
       "      <td>1</td>\n",
       "      <td>...</td>\n",
       "      <td>0</td>\n",
       "      <td>0</td>\n",
       "      <td>0</td>\n",
       "      <td>0</td>\n",
       "      <td>0</td>\n",
       "      <td>0</td>\n",
       "      <td>3.058434</td>\n",
       "      <td>aging baby confidence daughter gynecologist mi...</td>\n",
       "      <td>Comedy</td>\n",
       "      <td>Father of the Bride Part II</td>\n",
       "    </tr>\n",
       "  </tbody>\n",
       "</table>\n",
       "<p>5 rows × 34 columns</p>\n",
       "</div>"
      ],
      "text/plain": [
       "   movieId                               title  \\\n",
       "0        1                    Toy Story (1995)   \n",
       "1        2                      Jumanji (1995)   \n",
       "2        3             Grumpier Old Men (1995)   \n",
       "3        4            Waiting to Exhale (1995)   \n",
       "4        5  Father of the Bride Part II (1995)   \n",
       "\n",
       "                                        genres  releaseYr          era  \\\n",
       "0  Adventure|Animation|Children|Comedy|Fantasy       1995  Blockbuster   \n",
       "1                   Adventure|Children|Fantasy       1995  Blockbuster   \n",
       "2                               Comedy|Romance       1995  Blockbuster   \n",
       "3                         Comedy|Drama|Romance       1995  Blockbuster   \n",
       "4                                       Comedy       1995  Blockbuster   \n",
       "\n",
       "   Silent  Studio  Golden  Change  Blockbuster  ...  Documentary  IMAX  Crime  \\\n",
       "0       0       0       0       0            1  ...            0     0      0   \n",
       "1       0       0       0       0            1  ...            0     0      0   \n",
       "2       0       0       0       0            1  ...            0     0      0   \n",
       "3       0       0       0       0            1  ...            0     0      0   \n",
       "4       0       0       0       0            1  ...            0     0      0   \n",
       "\n",
       "   War  Horror  Animation    rating  \\\n",
       "0    0       0          1  3.893708   \n",
       "1    0       0          0  3.251527   \n",
       "2    0       0          0  3.142028   \n",
       "3    0       0          0  2.853547   \n",
       "4    0       0          0  3.058434   \n",
       "\n",
       "                                             userTag  \\\n",
       "0  Owned imdb top 250 Pixar Pixar time travel chi...   \n",
       "1  Robin Williams time travel fantasy based on ch...   \n",
       "2  funny best friend duringcreditsstinger fishing...   \n",
       "3  based on novel or book chick flick divorce int...   \n",
       "4  aging baby confidence daughter gynecologist mi...   \n",
       "\n",
       "                                      genreStr                    movieName  \n",
       "0  Adventure Animation Children Comedy Fantasy                    Toy Story  \n",
       "1                   Adventure Children Fantasy                      Jumanji  \n",
       "2                               Comedy Romance             Grumpier Old Men  \n",
       "3                         Comedy Drama Romance            Waiting to Exhale  \n",
       "4                                       Comedy  Father of the Bride Part II  \n",
       "\n",
       "[5 rows x 34 columns]"
      ]
     },
     "execution_count": 89,
     "metadata": {},
     "output_type": "execute_result"
    }
   ],
   "source": [
    "movies['movieName'] = pd.DataFrame(titleClean)\n",
    "movies.head()"
   ]
  },
  {
   "cell_type": "markdown",
   "id": "6923b17a",
   "metadata": {},
   "source": [
    "#### Movies Supertext"
   ]
  },
  {
   "cell_type": "code",
   "execution_count": 116,
   "id": "2cdff02f",
   "metadata": {},
   "outputs": [],
   "source": [
    "#movies['text'] = pd.Series(movies.movieName[0] + ' ' + movies.era[0] + ' ' + movies.ratingBins[0] + ' ' + movies.genreStr[0] + ' ' + movies.userTag[0])\n",
    "\n",
    "# Version without movie name\n",
    "movies['text'] = pd.Series(movies.era.astype(str) + ' ' + movies.ratingBins + ' ' + movies.genreStr + ' ' + movies.userTag)"
   ]
  },
  {
   "cell_type": "code",
   "execution_count": 118,
   "id": "bc862b4f",
   "metadata": {},
   "outputs": [],
   "source": [
    "moviesSuper = movies[['movieId','movieName','genres','releaseYr','rating','text']]"
   ]
  },
  {
   "cell_type": "code",
   "execution_count": 119,
   "id": "731a3b33",
   "metadata": {},
   "outputs": [],
   "source": [
    "moviesSuper.to_csv('./data/moviesSuper.csv')"
   ]
  },
  {
   "cell_type": "markdown",
   "id": "e83611d5",
   "metadata": {},
   "source": [
    "### User Ratings"
   ]
  },
  {
   "cell_type": "code",
   "execution_count": 15,
   "id": "c3db4c7a",
   "metadata": {},
   "outputs": [],
   "source": [
    "# convert timestamp to date\n",
    "ratings.timestamp = ratings.timestamp.apply(lambda x: datetime.date.fromtimestamp(x))"
   ]
  },
  {
   "cell_type": "code",
   "execution_count": 16,
   "id": "a1c9bbe7",
   "metadata": {},
   "outputs": [],
   "source": [
    "# comment year\n",
    "ratings['year'] = pd.to_datetime(ratings.timestamp).dt.year"
   ]
  },
  {
   "cell_type": "code",
   "execution_count": 17,
   "id": "935d533b",
   "metadata": {},
   "outputs": [
    {
     "name": "stdout",
     "output_type": "stream",
     "text": [
      "<class 'pandas.core.frame.DataFrame'>\n",
      "RangeIndex: 25000095 entries, 0 to 25000094\n",
      "Data columns (total 5 columns):\n",
      " #   Column     Dtype  \n",
      "---  ------     -----  \n",
      " 0   userId     int64  \n",
      " 1   movieId    int64  \n",
      " 2   rating     float64\n",
      " 3   timestamp  object \n",
      " 4   year       int64  \n",
      "dtypes: float64(1), int64(3), object(1)\n",
      "memory usage: 953.7+ MB\n"
     ]
    }
   ],
   "source": [
    "ratings.info()"
   ]
  },
  {
   "cell_type": "code",
   "execution_count": 167,
   "id": "649a857d",
   "metadata": {},
   "outputs": [
    {
     "data": {
      "text/plain": [
       "2675"
      ]
     },
     "execution_count": 167,
     "metadata": {},
     "output_type": "execute_result"
    }
   ],
   "source": [
    "# extract superuser userIds into a list\n",
    "superThreshold = 1000 \n",
    "\n",
    "superList = [k for k,v in pd.Series.to_dict(ratings.userId.value_counts() >= superThreshold).items() if v == True]\n",
    "len(superList)"
   ]
  },
  {
   "cell_type": "code",
   "execution_count": 168,
   "id": "11cc2687",
   "metadata": {},
   "outputs": [
    {
     "data": {
      "text/plain": [
       "(4192357, 6)"
      ]
     },
     "execution_count": 168,
     "metadata": {},
     "output_type": "execute_result"
    }
   ],
   "source": [
    "# Build superusers dataset\n",
    "ratingsSlim = ratings[ratings.userId.isin(superList)]\n",
    "ratingsSlim.shape"
   ]
  },
  {
   "cell_type": "code",
   "execution_count": 169,
   "id": "5cc08404",
   "metadata": {},
   "outputs": [
    {
     "data": {
      "text/html": [
       "<div>\n",
       "<style scoped>\n",
       "    .dataframe tbody tr th:only-of-type {\n",
       "        vertical-align: middle;\n",
       "    }\n",
       "\n",
       "    .dataframe tbody tr th {\n",
       "        vertical-align: top;\n",
       "    }\n",
       "\n",
       "    .dataframe thead th {\n",
       "        text-align: right;\n",
       "    }\n",
       "</style>\n",
       "<table border=\"1\" class=\"dataframe\">\n",
       "  <thead>\n",
       "    <tr style=\"text-align: right;\">\n",
       "      <th></th>\n",
       "      <th>userId</th>\n",
       "      <th>movieId</th>\n",
       "      <th>rating</th>\n",
       "      <th>timestamp</th>\n",
       "      <th>year</th>\n",
       "      <th>weights</th>\n",
       "    </tr>\n",
       "  </thead>\n",
       "  <tbody>\n",
       "    <tr>\n",
       "      <th>23893</th>\n",
       "      <td>187</td>\n",
       "      <td>1</td>\n",
       "      <td>3.5</td>\n",
       "      <td>2010-06-24</td>\n",
       "      <td>2010</td>\n",
       "      <td>NaN</td>\n",
       "    </tr>\n",
       "    <tr>\n",
       "      <th>23894</th>\n",
       "      <td>187</td>\n",
       "      <td>2</td>\n",
       "      <td>3.5</td>\n",
       "      <td>2010-06-24</td>\n",
       "      <td>2010</td>\n",
       "      <td>NaN</td>\n",
       "    </tr>\n",
       "    <tr>\n",
       "      <th>23895</th>\n",
       "      <td>187</td>\n",
       "      <td>3</td>\n",
       "      <td>3.0</td>\n",
       "      <td>2010-06-30</td>\n",
       "      <td>2010</td>\n",
       "      <td>NaN</td>\n",
       "    </tr>\n",
       "    <tr>\n",
       "      <th>23896</th>\n",
       "      <td>187</td>\n",
       "      <td>13</td>\n",
       "      <td>4.5</td>\n",
       "      <td>2010-06-24</td>\n",
       "      <td>2010</td>\n",
       "      <td>NaN</td>\n",
       "    </tr>\n",
       "    <tr>\n",
       "      <th>23897</th>\n",
       "      <td>187</td>\n",
       "      <td>19</td>\n",
       "      <td>4.5</td>\n",
       "      <td>2010-06-24</td>\n",
       "      <td>2010</td>\n",
       "      <td>NaN</td>\n",
       "    </tr>\n",
       "    <tr>\n",
       "      <th>...</th>\n",
       "      <td>...</td>\n",
       "      <td>...</td>\n",
       "      <td>...</td>\n",
       "      <td>...</td>\n",
       "      <td>...</td>\n",
       "      <td>...</td>\n",
       "    </tr>\n",
       "    <tr>\n",
       "      <th>24996318</th>\n",
       "      <td>162516</td>\n",
       "      <td>194947</td>\n",
       "      <td>3.5</td>\n",
       "      <td>2019-02-25</td>\n",
       "      <td>2019</td>\n",
       "      <td>15.895427</td>\n",
       "    </tr>\n",
       "    <tr>\n",
       "      <th>24996319</th>\n",
       "      <td>162516</td>\n",
       "      <td>194951</td>\n",
       "      <td>4.0</td>\n",
       "      <td>2018-12-26</td>\n",
       "      <td>2018</td>\n",
       "      <td>17.327529</td>\n",
       "    </tr>\n",
       "    <tr>\n",
       "      <th>24996320</th>\n",
       "      <td>162516</td>\n",
       "      <td>195159</td>\n",
       "      <td>3.5</td>\n",
       "      <td>2019-10-14</td>\n",
       "      <td>2019</td>\n",
       "      <td>15.895427</td>\n",
       "    </tr>\n",
       "    <tr>\n",
       "      <th>24996321</th>\n",
       "      <td>162516</td>\n",
       "      <td>196997</td>\n",
       "      <td>3.5</td>\n",
       "      <td>2019-01-01</td>\n",
       "      <td>2019</td>\n",
       "      <td>15.895427</td>\n",
       "    </tr>\n",
       "    <tr>\n",
       "      <th>24996322</th>\n",
       "      <td>162516</td>\n",
       "      <td>199350</td>\n",
       "      <td>4.0</td>\n",
       "      <td>2019-03-24</td>\n",
       "      <td>2019</td>\n",
       "      <td>15.895427</td>\n",
       "    </tr>\n",
       "  </tbody>\n",
       "</table>\n",
       "<p>4192357 rows × 6 columns</p>\n",
       "</div>"
      ],
      "text/plain": [
       "          userId  movieId  rating   timestamp  year    weights\n",
       "23893        187        1     3.5  2010-06-24  2010        NaN\n",
       "23894        187        2     3.5  2010-06-24  2010        NaN\n",
       "23895        187        3     3.0  2010-06-30  2010        NaN\n",
       "23896        187       13     4.5  2010-06-24  2010        NaN\n",
       "23897        187       19     4.5  2010-06-24  2010        NaN\n",
       "...          ...      ...     ...         ...   ...        ...\n",
       "24996318  162516   194947     3.5  2019-02-25  2019  15.895427\n",
       "24996319  162516   194951     4.0  2018-12-26  2018  17.327529\n",
       "24996320  162516   195159     3.5  2019-10-14  2019  15.895427\n",
       "24996321  162516   196997     3.5  2019-01-01  2019  15.895427\n",
       "24996322  162516   199350     4.0  2019-03-24  2019  15.895427\n",
       "\n",
       "[4192357 rows x 6 columns]"
      ]
     },
     "execution_count": 169,
     "metadata": {},
     "output_type": "execute_result"
    }
   ],
   "source": [
    "ratingsSlim"
   ]
  },
  {
   "cell_type": "markdown",
   "id": "dd7a821f",
   "metadata": {},
   "source": [
    "#### Downsample to 5Y worth of ratings data "
   ]
  },
  {
   "cell_type": "code",
   "execution_count": 132,
   "id": "fe33cc78",
   "metadata": {},
   "outputs": [
    {
     "data": {
      "text/plain": [
       "{2017: 22.840084503297405,\n",
       " 2016: 21.792299060521422,\n",
       " 2015: 20.190441147284105,\n",
       " 2018: 17.732272232677673,\n",
       " 2019: 17.444903056219392}"
      ]
     },
     "execution_count": 132,
     "metadata": {},
     "output_type": "execute_result"
    }
   ],
   "source": [
    "dict(ratingsSlim[ratingsSlim.year > 2014].year.value_counts(normalize=True)*100)"
   ]
  },
  {
   "cell_type": "code",
   "execution_count": 139,
   "id": "2f2df6da",
   "metadata": {},
   "outputs": [
    {
     "name": "stderr",
     "output_type": "stream",
     "text": [
      "C:\\Users\\kforkai\\AppData\\Local\\Temp\\ipykernel_29352\\2222255371.py:1: SettingWithCopyWarning: \n",
      "A value is trying to be set on a copy of a slice from a DataFrame.\n",
      "Try using .loc[row_indexer,col_indexer] = value instead\n",
      "\n",
      "See the caveats in the documentation: https://pandas.pydata.org/pandas-docs/stable/user_guide/indexing.html#returning-a-view-versus-a-copy\n",
      "  ratingsRed['weights'] = ratingsRed.year.map(dict(ratingsRed[ratingsRed.year > 2014].year.value_counts(normalize=True)*100))\n"
     ]
    }
   ],
   "source": [
    "# Resample ratings population according to year weights\n",
    "sample_size = 200000\n",
    "yearStart = 2014\n",
    "\n",
    "ratingsSlim['weights'] = ratingsSlim.year.map(dict(ratingsSlim[ratingsSlim.year > yearStart].year.value_counts(normalize=True)*100))\n",
    "ratingsWgt = ratingsSlim.sample(n=sample_size, weights='weights')"
   ]
  },
  {
   "cell_type": "code",
   "execution_count": 171,
   "id": "eb8cf6ad",
   "metadata": {},
   "outputs": [],
   "source": [
    "# Write to csv\n",
    "ratingsWgt.to_csv('./data/ratingsSuper.csv')"
   ]
  },
  {
   "cell_type": "code",
   "execution_count": 140,
   "id": "36991b54",
   "metadata": {},
   "outputs": [
    {
     "name": "stdout",
     "output_type": "stream",
     "text": [
      "1586, 26047\n"
     ]
    }
   ],
   "source": [
    "# sampling 100K user ratings\n",
    "print(len(set(ratingsWgt.userId)),len(set(ratingsWgt.movieId)), sep=', ' )"
   ]
  },
  {
   "cell_type": "code",
   "execution_count": 141,
   "id": "4d781e86",
   "metadata": {},
   "outputs": [],
   "source": [
    "# 8Gb RAM operation\n",
    "ratingsPv = pd.pivot_table(ratingsWgt.iloc[:,0:3], index='userId', columns='movieId', values='rating')"
   ]
  },
  {
   "cell_type": "code",
   "execution_count": 136,
   "id": "59778adc",
   "metadata": {},
   "outputs": [
    {
     "data": {
      "text/html": [
       "<div>\n",
       "<style scoped>\n",
       "    .dataframe tbody tr th:only-of-type {\n",
       "        vertical-align: middle;\n",
       "    }\n",
       "\n",
       "    .dataframe tbody tr th {\n",
       "        vertical-align: top;\n",
       "    }\n",
       "\n",
       "    .dataframe thead th {\n",
       "        text-align: right;\n",
       "    }\n",
       "</style>\n",
       "<table border=\"1\" class=\"dataframe\">\n",
       "  <thead>\n",
       "    <tr style=\"text-align: right;\">\n",
       "      <th>movieId</th>\n",
       "      <th>1</th>\n",
       "      <th>2</th>\n",
       "      <th>3</th>\n",
       "      <th>4</th>\n",
       "      <th>5</th>\n",
       "      <th>6</th>\n",
       "      <th>7</th>\n",
       "      <th>8</th>\n",
       "      <th>9</th>\n",
       "      <th>10</th>\n",
       "      <th>...</th>\n",
       "      <th>207796</th>\n",
       "      <th>207830</th>\n",
       "      <th>207882</th>\n",
       "      <th>208096</th>\n",
       "      <th>208148</th>\n",
       "      <th>208199</th>\n",
       "      <th>208507</th>\n",
       "      <th>208737</th>\n",
       "      <th>208767</th>\n",
       "      <th>209057</th>\n",
       "    </tr>\n",
       "    <tr>\n",
       "      <th>userId</th>\n",
       "      <th></th>\n",
       "      <th></th>\n",
       "      <th></th>\n",
       "      <th></th>\n",
       "      <th></th>\n",
       "      <th></th>\n",
       "      <th></th>\n",
       "      <th></th>\n",
       "      <th></th>\n",
       "      <th></th>\n",
       "      <th></th>\n",
       "      <th></th>\n",
       "      <th></th>\n",
       "      <th></th>\n",
       "      <th></th>\n",
       "      <th></th>\n",
       "      <th></th>\n",
       "      <th></th>\n",
       "      <th></th>\n",
       "      <th></th>\n",
       "      <th></th>\n",
       "    </tr>\n",
       "  </thead>\n",
       "  <tbody>\n",
       "    <tr>\n",
       "      <th>187</th>\n",
       "      <td>NaN</td>\n",
       "      <td>NaN</td>\n",
       "      <td>NaN</td>\n",
       "      <td>NaN</td>\n",
       "      <td>NaN</td>\n",
       "      <td>NaN</td>\n",
       "      <td>NaN</td>\n",
       "      <td>NaN</td>\n",
       "      <td>NaN</td>\n",
       "      <td>NaN</td>\n",
       "      <td>...</td>\n",
       "      <td>NaN</td>\n",
       "      <td>NaN</td>\n",
       "      <td>NaN</td>\n",
       "      <td>NaN</td>\n",
       "      <td>NaN</td>\n",
       "      <td>NaN</td>\n",
       "      <td>NaN</td>\n",
       "      <td>NaN</td>\n",
       "      <td>NaN</td>\n",
       "      <td>NaN</td>\n",
       "    </tr>\n",
       "    <tr>\n",
       "      <th>426</th>\n",
       "      <td>NaN</td>\n",
       "      <td>NaN</td>\n",
       "      <td>NaN</td>\n",
       "      <td>NaN</td>\n",
       "      <td>NaN</td>\n",
       "      <td>NaN</td>\n",
       "      <td>NaN</td>\n",
       "      <td>NaN</td>\n",
       "      <td>NaN</td>\n",
       "      <td>NaN</td>\n",
       "      <td>...</td>\n",
       "      <td>NaN</td>\n",
       "      <td>NaN</td>\n",
       "      <td>NaN</td>\n",
       "      <td>NaN</td>\n",
       "      <td>NaN</td>\n",
       "      <td>NaN</td>\n",
       "      <td>NaN</td>\n",
       "      <td>NaN</td>\n",
       "      <td>NaN</td>\n",
       "      <td>NaN</td>\n",
       "    </tr>\n",
       "    <tr>\n",
       "      <th>541</th>\n",
       "      <td>NaN</td>\n",
       "      <td>NaN</td>\n",
       "      <td>NaN</td>\n",
       "      <td>NaN</td>\n",
       "      <td>NaN</td>\n",
       "      <td>NaN</td>\n",
       "      <td>NaN</td>\n",
       "      <td>NaN</td>\n",
       "      <td>NaN</td>\n",
       "      <td>NaN</td>\n",
       "      <td>...</td>\n",
       "      <td>NaN</td>\n",
       "      <td>NaN</td>\n",
       "      <td>NaN</td>\n",
       "      <td>NaN</td>\n",
       "      <td>NaN</td>\n",
       "      <td>NaN</td>\n",
       "      <td>NaN</td>\n",
       "      <td>NaN</td>\n",
       "      <td>NaN</td>\n",
       "      <td>NaN</td>\n",
       "    </tr>\n",
       "    <tr>\n",
       "      <th>548</th>\n",
       "      <td>NaN</td>\n",
       "      <td>4.0</td>\n",
       "      <td>NaN</td>\n",
       "      <td>NaN</td>\n",
       "      <td>NaN</td>\n",
       "      <td>NaN</td>\n",
       "      <td>NaN</td>\n",
       "      <td>NaN</td>\n",
       "      <td>NaN</td>\n",
       "      <td>NaN</td>\n",
       "      <td>...</td>\n",
       "      <td>NaN</td>\n",
       "      <td>NaN</td>\n",
       "      <td>NaN</td>\n",
       "      <td>NaN</td>\n",
       "      <td>NaN</td>\n",
       "      <td>NaN</td>\n",
       "      <td>NaN</td>\n",
       "      <td>NaN</td>\n",
       "      <td>NaN</td>\n",
       "      <td>NaN</td>\n",
       "    </tr>\n",
       "    <tr>\n",
       "      <th>653</th>\n",
       "      <td>NaN</td>\n",
       "      <td>NaN</td>\n",
       "      <td>NaN</td>\n",
       "      <td>NaN</td>\n",
       "      <td>NaN</td>\n",
       "      <td>NaN</td>\n",
       "      <td>NaN</td>\n",
       "      <td>NaN</td>\n",
       "      <td>NaN</td>\n",
       "      <td>NaN</td>\n",
       "      <td>...</td>\n",
       "      <td>NaN</td>\n",
       "      <td>NaN</td>\n",
       "      <td>NaN</td>\n",
       "      <td>NaN</td>\n",
       "      <td>NaN</td>\n",
       "      <td>NaN</td>\n",
       "      <td>NaN</td>\n",
       "      <td>NaN</td>\n",
       "      <td>NaN</td>\n",
       "      <td>NaN</td>\n",
       "    </tr>\n",
       "    <tr>\n",
       "      <th>...</th>\n",
       "      <td>...</td>\n",
       "      <td>...</td>\n",
       "      <td>...</td>\n",
       "      <td>...</td>\n",
       "      <td>...</td>\n",
       "      <td>...</td>\n",
       "      <td>...</td>\n",
       "      <td>...</td>\n",
       "      <td>...</td>\n",
       "      <td>...</td>\n",
       "      <td>...</td>\n",
       "      <td>...</td>\n",
       "      <td>...</td>\n",
       "      <td>...</td>\n",
       "      <td>...</td>\n",
       "      <td>...</td>\n",
       "      <td>...</td>\n",
       "      <td>...</td>\n",
       "      <td>...</td>\n",
       "      <td>...</td>\n",
       "      <td>...</td>\n",
       "    </tr>\n",
       "    <tr>\n",
       "      <th>161675</th>\n",
       "      <td>3.5</td>\n",
       "      <td>NaN</td>\n",
       "      <td>NaN</td>\n",
       "      <td>NaN</td>\n",
       "      <td>NaN</td>\n",
       "      <td>NaN</td>\n",
       "      <td>NaN</td>\n",
       "      <td>NaN</td>\n",
       "      <td>NaN</td>\n",
       "      <td>NaN</td>\n",
       "      <td>...</td>\n",
       "      <td>NaN</td>\n",
       "      <td>NaN</td>\n",
       "      <td>NaN</td>\n",
       "      <td>NaN</td>\n",
       "      <td>NaN</td>\n",
       "      <td>NaN</td>\n",
       "      <td>NaN</td>\n",
       "      <td>NaN</td>\n",
       "      <td>NaN</td>\n",
       "      <td>NaN</td>\n",
       "    </tr>\n",
       "    <tr>\n",
       "      <th>161928</th>\n",
       "      <td>NaN</td>\n",
       "      <td>NaN</td>\n",
       "      <td>NaN</td>\n",
       "      <td>NaN</td>\n",
       "      <td>NaN</td>\n",
       "      <td>NaN</td>\n",
       "      <td>NaN</td>\n",
       "      <td>NaN</td>\n",
       "      <td>NaN</td>\n",
       "      <td>NaN</td>\n",
       "      <td>...</td>\n",
       "      <td>NaN</td>\n",
       "      <td>NaN</td>\n",
       "      <td>NaN</td>\n",
       "      <td>NaN</td>\n",
       "      <td>NaN</td>\n",
       "      <td>NaN</td>\n",
       "      <td>NaN</td>\n",
       "      <td>NaN</td>\n",
       "      <td>NaN</td>\n",
       "      <td>NaN</td>\n",
       "    </tr>\n",
       "    <tr>\n",
       "      <th>162047</th>\n",
       "      <td>NaN</td>\n",
       "      <td>NaN</td>\n",
       "      <td>NaN</td>\n",
       "      <td>NaN</td>\n",
       "      <td>NaN</td>\n",
       "      <td>NaN</td>\n",
       "      <td>NaN</td>\n",
       "      <td>NaN</td>\n",
       "      <td>NaN</td>\n",
       "      <td>NaN</td>\n",
       "      <td>...</td>\n",
       "      <td>NaN</td>\n",
       "      <td>NaN</td>\n",
       "      <td>NaN</td>\n",
       "      <td>NaN</td>\n",
       "      <td>NaN</td>\n",
       "      <td>NaN</td>\n",
       "      <td>NaN</td>\n",
       "      <td>NaN</td>\n",
       "      <td>NaN</td>\n",
       "      <td>NaN</td>\n",
       "    </tr>\n",
       "    <tr>\n",
       "      <th>162271</th>\n",
       "      <td>NaN</td>\n",
       "      <td>NaN</td>\n",
       "      <td>NaN</td>\n",
       "      <td>NaN</td>\n",
       "      <td>NaN</td>\n",
       "      <td>NaN</td>\n",
       "      <td>NaN</td>\n",
       "      <td>NaN</td>\n",
       "      <td>NaN</td>\n",
       "      <td>NaN</td>\n",
       "      <td>...</td>\n",
       "      <td>NaN</td>\n",
       "      <td>NaN</td>\n",
       "      <td>NaN</td>\n",
       "      <td>NaN</td>\n",
       "      <td>NaN</td>\n",
       "      <td>NaN</td>\n",
       "      <td>NaN</td>\n",
       "      <td>NaN</td>\n",
       "      <td>NaN</td>\n",
       "      <td>NaN</td>\n",
       "    </tr>\n",
       "    <tr>\n",
       "      <th>162516</th>\n",
       "      <td>NaN</td>\n",
       "      <td>NaN</td>\n",
       "      <td>NaN</td>\n",
       "      <td>NaN</td>\n",
       "      <td>NaN</td>\n",
       "      <td>NaN</td>\n",
       "      <td>NaN</td>\n",
       "      <td>NaN</td>\n",
       "      <td>NaN</td>\n",
       "      <td>NaN</td>\n",
       "      <td>...</td>\n",
       "      <td>NaN</td>\n",
       "      <td>NaN</td>\n",
       "      <td>NaN</td>\n",
       "      <td>NaN</td>\n",
       "      <td>NaN</td>\n",
       "      <td>NaN</td>\n",
       "      <td>NaN</td>\n",
       "      <td>NaN</td>\n",
       "      <td>NaN</td>\n",
       "      <td>NaN</td>\n",
       "    </tr>\n",
       "  </tbody>\n",
       "</table>\n",
       "<p>1568 rows × 18957 columns</p>\n",
       "</div>"
      ],
      "text/plain": [
       "movieId  1       2       3       4       5       6       7       8       \\\n",
       "userId                                                                    \n",
       "187         NaN     NaN     NaN     NaN     NaN     NaN     NaN     NaN   \n",
       "426         NaN     NaN     NaN     NaN     NaN     NaN     NaN     NaN   \n",
       "541         NaN     NaN     NaN     NaN     NaN     NaN     NaN     NaN   \n",
       "548         NaN     4.0     NaN     NaN     NaN     NaN     NaN     NaN   \n",
       "653         NaN     NaN     NaN     NaN     NaN     NaN     NaN     NaN   \n",
       "...         ...     ...     ...     ...     ...     ...     ...     ...   \n",
       "161675      3.5     NaN     NaN     NaN     NaN     NaN     NaN     NaN   \n",
       "161928      NaN     NaN     NaN     NaN     NaN     NaN     NaN     NaN   \n",
       "162047      NaN     NaN     NaN     NaN     NaN     NaN     NaN     NaN   \n",
       "162271      NaN     NaN     NaN     NaN     NaN     NaN     NaN     NaN   \n",
       "162516      NaN     NaN     NaN     NaN     NaN     NaN     NaN     NaN   \n",
       "\n",
       "movieId  9       10      ...  207796  207830  207882  208096  208148  208199  \\\n",
       "userId                   ...                                                   \n",
       "187         NaN     NaN  ...     NaN     NaN     NaN     NaN     NaN     NaN   \n",
       "426         NaN     NaN  ...     NaN     NaN     NaN     NaN     NaN     NaN   \n",
       "541         NaN     NaN  ...     NaN     NaN     NaN     NaN     NaN     NaN   \n",
       "548         NaN     NaN  ...     NaN     NaN     NaN     NaN     NaN     NaN   \n",
       "653         NaN     NaN  ...     NaN     NaN     NaN     NaN     NaN     NaN   \n",
       "...         ...     ...  ...     ...     ...     ...     ...     ...     ...   \n",
       "161675      NaN     NaN  ...     NaN     NaN     NaN     NaN     NaN     NaN   \n",
       "161928      NaN     NaN  ...     NaN     NaN     NaN     NaN     NaN     NaN   \n",
       "162047      NaN     NaN  ...     NaN     NaN     NaN     NaN     NaN     NaN   \n",
       "162271      NaN     NaN  ...     NaN     NaN     NaN     NaN     NaN     NaN   \n",
       "162516      NaN     NaN  ...     NaN     NaN     NaN     NaN     NaN     NaN   \n",
       "\n",
       "movieId  208507  208737  208767  209057  \n",
       "userId                                   \n",
       "187         NaN     NaN     NaN     NaN  \n",
       "426         NaN     NaN     NaN     NaN  \n",
       "541         NaN     NaN     NaN     NaN  \n",
       "548         NaN     NaN     NaN     NaN  \n",
       "653         NaN     NaN     NaN     NaN  \n",
       "...         ...     ...     ...     ...  \n",
       "161675      NaN     NaN     NaN     NaN  \n",
       "161928      NaN     NaN     NaN     NaN  \n",
       "162047      NaN     NaN     NaN     NaN  \n",
       "162271      NaN     NaN     NaN     NaN  \n",
       "162516      NaN     NaN     NaN     NaN  \n",
       "\n",
       "[1568 rows x 18957 columns]"
      ]
     },
     "execution_count": 136,
     "metadata": {},
     "output_type": "execute_result"
    }
   ],
   "source": [
    "ratingsPv"
   ]
  },
  {
   "cell_type": "code",
   "execution_count": 142,
   "id": "27390157",
   "metadata": {},
   "outputs": [
    {
     "data": {
      "image/png": "[encoded data removed]",
      "text/plain": [
       "<Figure size 1440x360 with 1 Axes>"
      ]
     },
     "metadata": {
      "needs_background": "light"
     },
     "output_type": "display_data"
    }
   ],
   "source": [
    "fig, ax = plt.subplots(figsize=(20,5))\n",
    "sns.heatmap(ratingsPv.iloc[:500,:].isnull(), cbar=False, ax=ax).set_title(\"Products x Features\")\n",
    "plt.show()"
   ]
  },
  {
   "cell_type": "code",
   "execution_count": 170,
   "id": "ca2e694e",
   "metadata": {},
   "outputs": [],
   "source": [
    "# Write to csv, also uses significant RAM\n",
    "ratingsPv.to_csv('./data/ratingsPvSuper.csv')"
   ]
  },
  {
   "cell_type": "code",
   "execution_count": 173,
   "id": "28c9aa18",
   "metadata": {},
   "outputs": [],
   "source": [
    "# movie titles contained in reduced list \n",
    "moviesWgt = list(set(ratingsWgt.movieId))"
   ]
  },
  {
   "cell_type": "code",
   "execution_count": 174,
   "id": "f26adf6b",
   "metadata": {},
   "outputs": [
    {
     "data": {
      "text/plain": [
       "(26047, 30)"
      ]
     },
     "execution_count": 174,
     "metadata": {},
     "output_type": "execute_result"
    }
   ],
   "source": [
    "moviesSlim = movies[movies.movieId.isin(moviesWgt)]\n",
    "moviesSlim.shape"
   ]
  },
  {
   "cell_type": "code",
   "execution_count": 175,
   "id": "85de32d7",
   "metadata": {},
   "outputs": [
    {
     "data": {
      "text/plain": [
       "<AxesSubplot:>"
      ]
     },
     "execution_count": 175,
     "metadata": {},
     "output_type": "execute_result"
    },
    {
     "data": {
      "image/png": "[encoded data removed]",
      "text/plain": [
       "<Figure size 432x288 with 1 Axes>"
      ]
     },
     "metadata": {
      "needs_background": "light"
     },
     "output_type": "display_data"
    }
   ],
   "source": [
    "moviesSlim.era.value_counts()[::-1].plot.bar(rot=45)"
   ]
  },
  {
   "cell_type": "code",
   "execution_count": 176,
   "id": "3ab0e8c3",
   "metadata": {},
   "outputs": [],
   "source": [
    "# Write to csv\n",
    "moviesSlim.to_csv('./data/moviesSuper.csv')"
   ]
  },
  {
   "cell_type": "markdown",
   "id": "7d3a3f1e",
   "metadata": {},
   "source": [
    "###  Genome Scores"
   ]
  },
  {
   "cell_type": "code",
   "execution_count": 54,
   "id": "cfbb5db6",
   "metadata": {},
   "outputs": [
    {
     "data": {
      "text/plain": [
       "(9513552, 3)"
      ]
     },
     "execution_count": 54,
     "metadata": {},
     "output_type": "execute_result"
    }
   ],
   "source": [
    "# Downsample genome scores\n",
    "genomeScores100 = genomeScores[genomeScores.movieId.isin(moviesWgt)]\n",
    "genomeScores100.shape"
   ]
  },
  {
   "cell_type": "code",
   "execution_count": 56,
   "id": "fad12ab1",
   "metadata": {},
   "outputs": [
    {
     "data": {
      "text/html": [
       "<div>\n",
       "<style scoped>\n",
       "    .dataframe tbody tr th:only-of-type {\n",
       "        vertical-align: middle;\n",
       "    }\n",
       "\n",
       "    .dataframe tbody tr th {\n",
       "        vertical-align: top;\n",
       "    }\n",
       "\n",
       "    .dataframe thead th {\n",
       "        text-align: right;\n",
       "    }\n",
       "</style>\n",
       "<table border=\"1\" class=\"dataframe\">\n",
       "  <thead>\n",
       "    <tr style=\"text-align: right;\">\n",
       "      <th>tagId</th>\n",
       "      <th>1</th>\n",
       "      <th>2</th>\n",
       "      <th>3</th>\n",
       "      <th>4</th>\n",
       "      <th>5</th>\n",
       "      <th>6</th>\n",
       "      <th>7</th>\n",
       "      <th>8</th>\n",
       "      <th>9</th>\n",
       "      <th>10</th>\n",
       "      <th>...</th>\n",
       "      <th>1119</th>\n",
       "      <th>1120</th>\n",
       "      <th>1121</th>\n",
       "      <th>1122</th>\n",
       "      <th>1123</th>\n",
       "      <th>1124</th>\n",
       "      <th>1125</th>\n",
       "      <th>1126</th>\n",
       "      <th>1127</th>\n",
       "      <th>1128</th>\n",
       "    </tr>\n",
       "    <tr>\n",
       "      <th>movieId</th>\n",
       "      <th></th>\n",
       "      <th></th>\n",
       "      <th></th>\n",
       "      <th></th>\n",
       "      <th></th>\n",
       "      <th></th>\n",
       "      <th></th>\n",
       "      <th></th>\n",
       "      <th></th>\n",
       "      <th></th>\n",
       "      <th></th>\n",
       "      <th></th>\n",
       "      <th></th>\n",
       "      <th></th>\n",
       "      <th></th>\n",
       "      <th></th>\n",
       "      <th></th>\n",
       "      <th></th>\n",
       "      <th></th>\n",
       "      <th></th>\n",
       "      <th></th>\n",
       "    </tr>\n",
       "  </thead>\n",
       "  <tbody>\n",
       "    <tr>\n",
       "      <th>1</th>\n",
       "      <td>0.02875</td>\n",
       "      <td>0.02375</td>\n",
       "      <td>0.06250</td>\n",
       "      <td>0.07575</td>\n",
       "      <td>0.14075</td>\n",
       "      <td>0.14675</td>\n",
       "      <td>0.06350</td>\n",
       "      <td>0.20375</td>\n",
       "      <td>0.20200</td>\n",
       "      <td>0.03075</td>\n",
       "      <td>...</td>\n",
       "      <td>0.04050</td>\n",
       "      <td>0.01425</td>\n",
       "      <td>0.03050</td>\n",
       "      <td>0.03500</td>\n",
       "      <td>0.14125</td>\n",
       "      <td>0.05775</td>\n",
       "      <td>0.03900</td>\n",
       "      <td>0.02975</td>\n",
       "      <td>0.08475</td>\n",
       "      <td>0.02200</td>\n",
       "    </tr>\n",
       "    <tr>\n",
       "      <th>2</th>\n",
       "      <td>0.04125</td>\n",
       "      <td>0.04050</td>\n",
       "      <td>0.06275</td>\n",
       "      <td>0.08275</td>\n",
       "      <td>0.09100</td>\n",
       "      <td>0.06125</td>\n",
       "      <td>0.06925</td>\n",
       "      <td>0.09600</td>\n",
       "      <td>0.07650</td>\n",
       "      <td>0.05250</td>\n",
       "      <td>...</td>\n",
       "      <td>0.05250</td>\n",
       "      <td>0.01575</td>\n",
       "      <td>0.01250</td>\n",
       "      <td>0.02000</td>\n",
       "      <td>0.12225</td>\n",
       "      <td>0.03275</td>\n",
       "      <td>0.02100</td>\n",
       "      <td>0.01100</td>\n",
       "      <td>0.10525</td>\n",
       "      <td>0.01975</td>\n",
       "    </tr>\n",
       "    <tr>\n",
       "      <th>3</th>\n",
       "      <td>0.04675</td>\n",
       "      <td>0.05550</td>\n",
       "      <td>0.02925</td>\n",
       "      <td>0.08700</td>\n",
       "      <td>0.04750</td>\n",
       "      <td>0.04775</td>\n",
       "      <td>0.04600</td>\n",
       "      <td>0.14275</td>\n",
       "      <td>0.02850</td>\n",
       "      <td>0.03875</td>\n",
       "      <td>...</td>\n",
       "      <td>0.06275</td>\n",
       "      <td>0.01950</td>\n",
       "      <td>0.02225</td>\n",
       "      <td>0.02300</td>\n",
       "      <td>0.12200</td>\n",
       "      <td>0.03475</td>\n",
       "      <td>0.01700</td>\n",
       "      <td>0.01800</td>\n",
       "      <td>0.09100</td>\n",
       "      <td>0.01775</td>\n",
       "    </tr>\n",
       "    <tr>\n",
       "      <th>4</th>\n",
       "      <td>0.03425</td>\n",
       "      <td>0.03800</td>\n",
       "      <td>0.04050</td>\n",
       "      <td>0.03100</td>\n",
       "      <td>0.06500</td>\n",
       "      <td>0.03575</td>\n",
       "      <td>0.02900</td>\n",
       "      <td>0.08650</td>\n",
       "      <td>0.03200</td>\n",
       "      <td>0.03150</td>\n",
       "      <td>...</td>\n",
       "      <td>0.05325</td>\n",
       "      <td>0.02800</td>\n",
       "      <td>0.01675</td>\n",
       "      <td>0.03875</td>\n",
       "      <td>0.18200</td>\n",
       "      <td>0.07050</td>\n",
       "      <td>0.01625</td>\n",
       "      <td>0.01425</td>\n",
       "      <td>0.08850</td>\n",
       "      <td>0.01500</td>\n",
       "    </tr>\n",
       "    <tr>\n",
       "      <th>5</th>\n",
       "      <td>0.04300</td>\n",
       "      <td>0.05325</td>\n",
       "      <td>0.03800</td>\n",
       "      <td>0.04100</td>\n",
       "      <td>0.05400</td>\n",
       "      <td>0.06725</td>\n",
       "      <td>0.02775</td>\n",
       "      <td>0.07650</td>\n",
       "      <td>0.02150</td>\n",
       "      <td>0.02975</td>\n",
       "      <td>...</td>\n",
       "      <td>0.05350</td>\n",
       "      <td>0.02050</td>\n",
       "      <td>0.01425</td>\n",
       "      <td>0.02550</td>\n",
       "      <td>0.19225</td>\n",
       "      <td>0.02675</td>\n",
       "      <td>0.01625</td>\n",
       "      <td>0.01300</td>\n",
       "      <td>0.08700</td>\n",
       "      <td>0.01600</td>\n",
       "    </tr>\n",
       "    <tr>\n",
       "      <th>...</th>\n",
       "      <td>...</td>\n",
       "      <td>...</td>\n",
       "      <td>...</td>\n",
       "      <td>...</td>\n",
       "      <td>...</td>\n",
       "      <td>...</td>\n",
       "      <td>...</td>\n",
       "      <td>...</td>\n",
       "      <td>...</td>\n",
       "      <td>...</td>\n",
       "      <td>...</td>\n",
       "      <td>...</td>\n",
       "      <td>...</td>\n",
       "      <td>...</td>\n",
       "      <td>...</td>\n",
       "      <td>...</td>\n",
       "      <td>...</td>\n",
       "      <td>...</td>\n",
       "      <td>...</td>\n",
       "      <td>...</td>\n",
       "      <td>...</td>\n",
       "    </tr>\n",
       "    <tr>\n",
       "      <th>205072</th>\n",
       "      <td>0.02050</td>\n",
       "      <td>0.01775</td>\n",
       "      <td>0.11400</td>\n",
       "      <td>0.03650</td>\n",
       "      <td>0.31225</td>\n",
       "      <td>0.03675</td>\n",
       "      <td>0.10700</td>\n",
       "      <td>0.37925</td>\n",
       "      <td>0.01725</td>\n",
       "      <td>0.36350</td>\n",
       "      <td>...</td>\n",
       "      <td>0.18675</td>\n",
       "      <td>0.03650</td>\n",
       "      <td>0.03025</td>\n",
       "      <td>0.12900</td>\n",
       "      <td>0.13975</td>\n",
       "      <td>0.42425</td>\n",
       "      <td>0.03400</td>\n",
       "      <td>0.02350</td>\n",
       "      <td>0.41725</td>\n",
       "      <td>0.09100</td>\n",
       "    </tr>\n",
       "    <tr>\n",
       "      <th>205076</th>\n",
       "      <td>0.03825</td>\n",
       "      <td>0.03150</td>\n",
       "      <td>0.03200</td>\n",
       "      <td>0.05325</td>\n",
       "      <td>0.20850</td>\n",
       "      <td>0.07050</td>\n",
       "      <td>0.06625</td>\n",
       "      <td>0.27825</td>\n",
       "      <td>0.00950</td>\n",
       "      <td>0.02750</td>\n",
       "      <td>...</td>\n",
       "      <td>0.27775</td>\n",
       "      <td>0.03225</td>\n",
       "      <td>0.04675</td>\n",
       "      <td>0.03175</td>\n",
       "      <td>0.23025</td>\n",
       "      <td>0.06300</td>\n",
       "      <td>0.04175</td>\n",
       "      <td>0.04125</td>\n",
       "      <td>0.07275</td>\n",
       "      <td>0.02350</td>\n",
       "    </tr>\n",
       "    <tr>\n",
       "      <th>205383</th>\n",
       "      <td>0.04100</td>\n",
       "      <td>0.04025</td>\n",
       "      <td>0.02750</td>\n",
       "      <td>0.07850</td>\n",
       "      <td>0.19750</td>\n",
       "      <td>0.17825</td>\n",
       "      <td>0.17125</td>\n",
       "      <td>0.30475</td>\n",
       "      <td>0.16825</td>\n",
       "      <td>0.04850</td>\n",
       "      <td>...</td>\n",
       "      <td>0.16525</td>\n",
       "      <td>0.03250</td>\n",
       "      <td>0.02400</td>\n",
       "      <td>0.03575</td>\n",
       "      <td>0.20400</td>\n",
       "      <td>0.08525</td>\n",
       "      <td>0.04600</td>\n",
       "      <td>0.02900</td>\n",
       "      <td>0.11725</td>\n",
       "      <td>0.03925</td>\n",
       "    </tr>\n",
       "    <tr>\n",
       "      <th>205425</th>\n",
       "      <td>0.04525</td>\n",
       "      <td>0.04125</td>\n",
       "      <td>0.04250</td>\n",
       "      <td>0.07425</td>\n",
       "      <td>0.11550</td>\n",
       "      <td>0.10500</td>\n",
       "      <td>0.08275</td>\n",
       "      <td>0.13575</td>\n",
       "      <td>0.16125</td>\n",
       "      <td>0.05875</td>\n",
       "      <td>...</td>\n",
       "      <td>0.25075</td>\n",
       "      <td>0.04550</td>\n",
       "      <td>0.01425</td>\n",
       "      <td>0.03925</td>\n",
       "      <td>0.21700</td>\n",
       "      <td>0.06000</td>\n",
       "      <td>0.07250</td>\n",
       "      <td>0.01500</td>\n",
       "      <td>0.11050</td>\n",
       "      <td>0.02850</td>\n",
       "    </tr>\n",
       "    <tr>\n",
       "      <th>206499</th>\n",
       "      <td>0.10050</td>\n",
       "      <td>0.09325</td>\n",
       "      <td>0.02225</td>\n",
       "      <td>0.04550</td>\n",
       "      <td>0.21125</td>\n",
       "      <td>0.06125</td>\n",
       "      <td>0.10425</td>\n",
       "      <td>0.29750</td>\n",
       "      <td>0.12450</td>\n",
       "      <td>0.06700</td>\n",
       "      <td>...</td>\n",
       "      <td>0.12750</td>\n",
       "      <td>0.02750</td>\n",
       "      <td>0.02250</td>\n",
       "      <td>0.04200</td>\n",
       "      <td>0.17500</td>\n",
       "      <td>0.11000</td>\n",
       "      <td>0.04850</td>\n",
       "      <td>0.01325</td>\n",
       "      <td>0.14025</td>\n",
       "      <td>0.03350</td>\n",
       "    </tr>\n",
       "  </tbody>\n",
       "</table>\n",
       "<p>8434 rows × 1128 columns</p>\n",
       "</div>"
      ],
      "text/plain": [
       "tagId       1        2        3        4        5        6        7     \\\n",
       "movieId                                                                  \n",
       "1        0.02875  0.02375  0.06250  0.07575  0.14075  0.14675  0.06350   \n",
       "2        0.04125  0.04050  0.06275  0.08275  0.09100  0.06125  0.06925   \n",
       "3        0.04675  0.05550  0.02925  0.08700  0.04750  0.04775  0.04600   \n",
       "4        0.03425  0.03800  0.04050  0.03100  0.06500  0.03575  0.02900   \n",
       "5        0.04300  0.05325  0.03800  0.04100  0.05400  0.06725  0.02775   \n",
       "...          ...      ...      ...      ...      ...      ...      ...   \n",
       "205072   0.02050  0.01775  0.11400  0.03650  0.31225  0.03675  0.10700   \n",
       "205076   0.03825  0.03150  0.03200  0.05325  0.20850  0.07050  0.06625   \n",
       "205383   0.04100  0.04025  0.02750  0.07850  0.19750  0.17825  0.17125   \n",
       "205425   0.04525  0.04125  0.04250  0.07425  0.11550  0.10500  0.08275   \n",
       "206499   0.10050  0.09325  0.02225  0.04550  0.21125  0.06125  0.10425   \n",
       "\n",
       "tagId       8        9        10    ...     1119     1120     1121     1122  \\\n",
       "movieId                             ...                                       \n",
       "1        0.20375  0.20200  0.03075  ...  0.04050  0.01425  0.03050  0.03500   \n",
       "2        0.09600  0.07650  0.05250  ...  0.05250  0.01575  0.01250  0.02000   \n",
       "3        0.14275  0.02850  0.03875  ...  0.06275  0.01950  0.02225  0.02300   \n",
       "4        0.08650  0.03200  0.03150  ...  0.05325  0.02800  0.01675  0.03875   \n",
       "5        0.07650  0.02150  0.02975  ...  0.05350  0.02050  0.01425  0.02550   \n",
       "...          ...      ...      ...  ...      ...      ...      ...      ...   \n",
       "205072   0.37925  0.01725  0.36350  ...  0.18675  0.03650  0.03025  0.12900   \n",
       "205076   0.27825  0.00950  0.02750  ...  0.27775  0.03225  0.04675  0.03175   \n",
       "205383   0.30475  0.16825  0.04850  ...  0.16525  0.03250  0.02400  0.03575   \n",
       "205425   0.13575  0.16125  0.05875  ...  0.25075  0.04550  0.01425  0.03925   \n",
       "206499   0.29750  0.12450  0.06700  ...  0.12750  0.02750  0.02250  0.04200   \n",
       "\n",
       "tagId       1123     1124     1125     1126     1127     1128  \n",
       "movieId                                                        \n",
       "1        0.14125  0.05775  0.03900  0.02975  0.08475  0.02200  \n",
       "2        0.12225  0.03275  0.02100  0.01100  0.10525  0.01975  \n",
       "3        0.12200  0.03475  0.01700  0.01800  0.09100  0.01775  \n",
       "4        0.18200  0.07050  0.01625  0.01425  0.08850  0.01500  \n",
       "5        0.19225  0.02675  0.01625  0.01300  0.08700  0.01600  \n",
       "...          ...      ...      ...      ...      ...      ...  \n",
       "205072   0.13975  0.42425  0.03400  0.02350  0.41725  0.09100  \n",
       "205076   0.23025  0.06300  0.04175  0.04125  0.07275  0.02350  \n",
       "205383   0.20400  0.08525  0.04600  0.02900  0.11725  0.03925  \n",
       "205425   0.21700  0.06000  0.07250  0.01500  0.11050  0.02850  \n",
       "206499   0.17500  0.11000  0.04850  0.01325  0.14025  0.03350  \n",
       "\n",
       "[8434 rows x 1128 columns]"
      ]
     },
     "execution_count": 56,
     "metadata": {},
     "output_type": "execute_result"
    }
   ],
   "source": [
    "pd.pivot(genomeScores100, index='movieId', columns='tagId', values='relevance')"
   ]
  },
  {
   "cell_type": "markdown",
   "id": "6e347131",
   "metadata": {},
   "source": [
    "### User Input Tags "
   ]
  },
  {
   "cell_type": "code",
   "execution_count": 83,
   "id": "e0311746",
   "metadata": {},
   "outputs": [
    {
     "data": {
      "text/plain": [
       "((1093360, 4), 45251)"
      ]
     },
     "execution_count": 83,
     "metadata": {},
     "output_type": "execute_result"
    }
   ],
   "source": [
    "tags.shape, len(set(tags.movieId))"
   ]
  },
  {
   "cell_type": "code",
   "execution_count": 81,
   "id": "e7b1ffb8",
   "metadata": {},
   "outputs": [
    {
     "data": {
      "text/plain": [
       "18094"
      ]
     },
     "execution_count": 81,
     "metadata": {},
     "output_type": "execute_result"
    }
   ],
   "source": [
    "# make a list of tags\n",
    "n = 5  # at least this number of occurences\n",
    "tagsList = pd.Series.to_list(tags.tag.value_counts().loc[lambda x : x >= n].to_frame().reset_index().rename(columns={'index':'userTag'}).userTag)\n",
    "len(tagsList)"
   ]
  },
  {
   "cell_type": "code",
   "execution_count": 82,
   "id": "8c516d7f",
   "metadata": {},
   "outputs": [
    {
     "data": {
      "text/plain": [
       "((1007414, 4), 44143)"
      ]
     },
     "execution_count": 82,
     "metadata": {},
     "output_type": "execute_result"
    }
   ],
   "source": [
    "tagsSlim = tags[tags.tag.isin(tagsList)]\n",
    "tagsSlim.shape, len(set(tagsSlim.movieId))"
   ]
  },
  {
   "cell_type": "markdown",
   "id": "b661f5c0",
   "metadata": {},
   "source": [
    "#### Feature Engineering: Merge all tags"
   ]
  },
  {
   "cell_type": "code",
   "execution_count": 121,
   "id": "040790f8",
   "metadata": {},
   "outputs": [
    {
     "data": {
      "text/html": [
       "<div>\n",
       "<style scoped>\n",
       "    .dataframe tbody tr th:only-of-type {\n",
       "        vertical-align: middle;\n",
       "    }\n",
       "\n",
       "    .dataframe tbody tr th {\n",
       "        vertical-align: top;\n",
       "    }\n",
       "\n",
       "    .dataframe thead th {\n",
       "        text-align: right;\n",
       "    }\n",
       "</style>\n",
       "<table border=\"1\" class=\"dataframe\">\n",
       "  <thead>\n",
       "    <tr style=\"text-align: right;\">\n",
       "      <th></th>\n",
       "      <th>userId</th>\n",
       "      <th>movieId</th>\n",
       "      <th>tag</th>\n",
       "      <th>timestamp</th>\n",
       "      <th>userTag</th>\n",
       "    </tr>\n",
       "  </thead>\n",
       "  <tbody>\n",
       "    <tr>\n",
       "      <th>0</th>\n",
       "      <td>3</td>\n",
       "      <td>260</td>\n",
       "      <td>classic</td>\n",
       "      <td>1439472355</td>\n",
       "      <td>classic sci-fi action adventure fantasy space ...</td>\n",
       "    </tr>\n",
       "    <tr>\n",
       "      <th>1</th>\n",
       "      <td>3</td>\n",
       "      <td>260</td>\n",
       "      <td>sci-fi</td>\n",
       "      <td>1439472256</td>\n",
       "      <td>classic sci-fi action adventure fantasy space ...</td>\n",
       "    </tr>\n",
       "    <tr>\n",
       "      <th>2</th>\n",
       "      <td>4</td>\n",
       "      <td>1732</td>\n",
       "      <td>dark comedy</td>\n",
       "      <td>1573943598</td>\n",
       "      <td>dark comedy great dialogue imdb top 250 bowlin...</td>\n",
       "    </tr>\n",
       "    <tr>\n",
       "      <th>3</th>\n",
       "      <td>4</td>\n",
       "      <td>1732</td>\n",
       "      <td>great dialogue</td>\n",
       "      <td>1573943604</td>\n",
       "      <td>dark comedy great dialogue imdb top 250 bowlin...</td>\n",
       "    </tr>\n",
       "    <tr>\n",
       "      <th>4</th>\n",
       "      <td>4</td>\n",
       "      <td>7569</td>\n",
       "      <td>so bad it's good</td>\n",
       "      <td>1573943455</td>\n",
       "      <td>so bad it's good asia assassin assassination b...</td>\n",
       "    </tr>\n",
       "  </tbody>\n",
       "</table>\n",
       "</div>"
      ],
      "text/plain": [
       "   userId  movieId               tag   timestamp  \\\n",
       "0       3      260           classic  1439472355   \n",
       "1       3      260            sci-fi  1439472256   \n",
       "2       4     1732       dark comedy  1573943598   \n",
       "3       4     1732    great dialogue  1573943604   \n",
       "4       4     7569  so bad it's good  1573943455   \n",
       "\n",
       "                                             userTag  \n",
       "0  classic sci-fi action adventure fantasy space ...  \n",
       "1  classic sci-fi action adventure fantasy space ...  \n",
       "2  dark comedy great dialogue imdb top 250 bowlin...  \n",
       "3  dark comedy great dialogue imdb top 250 bowlin...  \n",
       "4  so bad it's good asia assassin assassination b...  "
      ]
     },
     "execution_count": 121,
     "metadata": {},
     "output_type": "execute_result"
    }
   ],
   "source": [
    "# lower case, split by space\n",
    "tagsSlim = tagsSlim.merge(pd.DataFrame(tagsSlim.groupby('movieId').tag.transform(lambda x : ' '.lower().join(x))).rename(columns={'tag':'userTag'}), how='left', left_index=True, right_index=True)\n",
    "tagsSlim.head()"
   ]
  },
  {
   "cell_type": "code",
   "execution_count": 85,
   "id": "88b9c5f1",
   "metadata": {},
   "outputs": [
    {
     "data": {
      "text/plain": [
       "44143"
      ]
     },
     "execution_count": 85,
     "metadata": {},
     "output_type": "execute_result"
    }
   ],
   "source": [
    "userTags = tagsSlim[['movieId','userTag']].drop_duplicates()\n",
    "len(userTags)"
   ]
  }
 ],
 "metadata": {
  "kernelspec": {
   "display_name": "Python 3 (ipykernel)",
   "language": "python",
   "name": "python3"
  },
  "language_info": {
   "codemirror_mode": {
    "name": "ipython",
    "version": 3
   },
   "file_extension": ".py",
   "mimetype": "text/x-python",
   "name": "python",
   "nbconvert_exporter": "python",
   "pygments_lexer": "ipython3",
   "version": "3.9.12"
  }
 },
 "nbformat": 4,
 "nbformat_minor": 5
}
