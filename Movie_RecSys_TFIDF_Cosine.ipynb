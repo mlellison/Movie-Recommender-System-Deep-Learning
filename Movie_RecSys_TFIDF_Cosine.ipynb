{
 "cells": [
  {
   "cell_type": "markdown",
   "id": "9b6ee8b5",
   "metadata": {},
   "source": [
    "### Running TF-IDF Vectorizer and Cosine Similarity"
   ]
  },
  {
   "cell_type": "code",
   "execution_count": 1,
   "id": "f5428167",
   "metadata": {},
   "outputs": [],
   "source": [
    "import pandas as pd\n",
    "import numpy as np"
   ]
  },
  {
   "cell_type": "code",
   "execution_count": 19,
   "id": "755b5b81",
   "metadata": {},
   "outputs": [
    {
     "data": {
      "text/plain": [
       "(62423, 5)"
      ]
     },
     "execution_count": 19,
     "metadata": {},
     "output_type": "execute_result"
    }
   ],
   "source": [
    "tf = pd.read_csv('./data/moviesSuper.csv').iloc[:,1:].set_index('movieId')\n",
    "tf.shape"
   ]
  },
  {
   "cell_type": "code",
   "execution_count": 21,
   "id": "28d8a838",
   "metadata": {},
   "outputs": [
    {
     "name": "stdout",
     "output_type": "stream",
     "text": [
      "(12225, 5)\n"
     ]
    },
    {
     "data": {
      "text/html": [
       "<div>\n",
       "<style scoped>\n",
       "    .dataframe tbody tr th:only-of-type {\n",
       "        vertical-align: middle;\n",
       "    }\n",
       "\n",
       "    .dataframe tbody tr th {\n",
       "        vertical-align: top;\n",
       "    }\n",
       "\n",
       "    .dataframe thead th {\n",
       "        text-align: right;\n",
       "    }\n",
       "</style>\n",
       "<table border=\"1\" class=\"dataframe\">\n",
       "  <thead>\n",
       "    <tr style=\"text-align: right;\">\n",
       "      <th></th>\n",
       "      <th>movieName</th>\n",
       "      <th>genres</th>\n",
       "      <th>releaseYr</th>\n",
       "      <th>rating</th>\n",
       "      <th>text</th>\n",
       "    </tr>\n",
       "    <tr>\n",
       "      <th>movieId</th>\n",
       "      <th></th>\n",
       "      <th></th>\n",
       "      <th></th>\n",
       "      <th></th>\n",
       "      <th></th>\n",
       "    </tr>\n",
       "  </thead>\n",
       "  <tbody>\n",
       "    <tr>\n",
       "      <th>79607</th>\n",
       "      <td>Millions Game, The (Das Millionenspie</td>\n",
       "      <td>Action|Drama|Sci-Fi|Thriller</td>\n",
       "      <td>2015</td>\n",
       "      <td>3.400000</td>\n",
       "      <td>Modern Avg Action Drama Sci-Fi Thriller danger...</td>\n",
       "    </tr>\n",
       "    <tr>\n",
       "      <th>107516</th>\n",
       "      <td>Punk's Dead: SLC Punk! 2</td>\n",
       "      <td>Comedy</td>\n",
       "      <td>2014</td>\n",
       "      <td>2.392857</td>\n",
       "      <td>Modern belowAvg Comedy added</td>\n",
       "    </tr>\n",
       "    <tr>\n",
       "      <th>107769</th>\n",
       "      <td>Paranormal Activity: The Marked Ones</td>\n",
       "      <td>Horror|Thriller</td>\n",
       "      <td>2014</td>\n",
       "      <td>2.761905</td>\n",
       "      <td>Modern belowAvg Horror Thriller demon found fo...</td>\n",
       "    </tr>\n",
       "    <tr>\n",
       "      <th>107916</th>\n",
       "      <td>Yves Saint Laurent</td>\n",
       "      <td>Drama|Romance</td>\n",
       "      <td>2014</td>\n",
       "      <td>3.178571</td>\n",
       "      <td>Modern Avg Drama Romance biography fashion fas...</td>\n",
       "    </tr>\n",
       "    <tr>\n",
       "      <th>108156</th>\n",
       "      <td>Ride Along</td>\n",
       "      <td>Action|Comedy</td>\n",
       "      <td>2014</td>\n",
       "      <td>3.181733</td>\n",
       "      <td>Modern Avg Action Comedy Atlanta buddy movie p...</td>\n",
       "    </tr>\n",
       "  </tbody>\n",
       "</table>\n",
       "</div>"
      ],
      "text/plain": [
       "                                     movieName                        genres  \\\n",
       "movieId                                                                        \n",
       "79607    Millions Game, The (Das Millionenspie  Action|Drama|Sci-Fi|Thriller   \n",
       "107516                Punk's Dead: SLC Punk! 2                        Comedy   \n",
       "107769    Paranormal Activity: The Marked Ones               Horror|Thriller   \n",
       "107916                      Yves Saint Laurent                 Drama|Romance   \n",
       "108156                              Ride Along                 Action|Comedy   \n",
       "\n",
       "         releaseYr    rating  \\\n",
       "movieId                        \n",
       "79607         2015  3.400000   \n",
       "107516        2014  2.392857   \n",
       "107769        2014  2.761905   \n",
       "107916        2014  3.178571   \n",
       "108156        2014  3.181733   \n",
       "\n",
       "                                                      text  \n",
       "movieId                                                     \n",
       "79607    Modern Avg Action Drama Sci-Fi Thriller danger...  \n",
       "107516                        Modern belowAvg Comedy added  \n",
       "107769   Modern belowAvg Horror Thriller demon found fo...  \n",
       "107916   Modern Avg Drama Romance biography fashion fas...  \n",
       "108156   Modern Avg Action Comedy Atlanta buddy movie p...  "
      ]
     },
     "execution_count": 21,
     "metadata": {},
     "output_type": "execute_result"
    }
   ],
   "source": [
    "# Constrain dataset to conserve memory\n",
    "tf = tf[tf.releaseYr >= 2014]\n",
    "print(tf.shape)\n",
    "tf.head()"
   ]
  },
  {
   "cell_type": "code",
   "execution_count": 22,
   "id": "8e3acf6e",
   "metadata": {},
   "outputs": [],
   "source": [
    "tf.to_csv('./data/tf14-18.csv')"
   ]
  },
  {
   "cell_type": "markdown",
   "id": "2d706ee3",
   "metadata": {},
   "source": [
    "#### TF-IDF Vectorizer"
   ]
  },
  {
   "cell_type": "code",
   "execution_count": 23,
   "id": "ed797bc7",
   "metadata": {},
   "outputs": [],
   "source": [
    "from sklearn.feature_extraction.text import TfidfVectorizer\n",
    "\n",
    "tfinf = TfidfVectorizer(analyzer='word',ngram_range=(1, 2),min_df=0, stop_words='english')\n",
    "tfidf_matrix = tfinf.fit_transform(tf['text'])"
   ]
  },
  {
   "cell_type": "code",
   "execution_count": 24,
   "id": "a39d9006",
   "metadata": {},
   "outputs": [
    {
     "data": {
      "text/plain": [
       "(12225, 87300)"
      ]
     },
     "execution_count": 24,
     "metadata": {},
     "output_type": "execute_result"
    }
   ],
   "source": [
    "# Output shape\n",
    "tfidf_matrix.shape"
   ]
  },
  {
   "cell_type": "markdown",
   "id": "20ef90be",
   "metadata": {},
   "source": [
    "#### Calculating Cosine Similarity on Vectorized Data "
   ]
  },
  {
   "cell_type": "code",
   "execution_count": 25,
   "id": "5f43766a",
   "metadata": {},
   "outputs": [],
   "source": [
    "from sklearn.metrics.pairwise import linear_kernel\n",
    "\n",
    "cosine_sim = linear_kernel(tfidf_matrix, tfidf_matrix)"
   ]
  },
  {
   "cell_type": "code",
   "execution_count": 26,
   "id": "0eba02bb",
   "metadata": {},
   "outputs": [
    {
     "data": {
      "text/plain": [
       "(12225, 12225)"
      ]
     },
     "execution_count": 26,
     "metadata": {},
     "output_type": "execute_result"
    }
   ],
   "source": [
    "# Output shape, save npy file for more efficient streamlit ops\n",
    "np.save('./data/movieMatrix14-18.npy', cosine_sim)\n",
    "#cosine_sim = np.load('./data/movieMatrix.npy')\n",
    "cosine_sim.shape"
   ]
  },
  {
   "cell_type": "markdown",
   "id": "6fdbc4fc",
   "metadata": {},
   "source": [
    "#### Recommendations Function "
   ]
  },
  {
   "cell_type": "code",
   "execution_count": 27,
   "id": "729917cf",
   "metadata": {},
   "outputs": [],
   "source": [
    "tf = tf.reset_index()\n",
    "titles = tf['movieName']\n",
    "indices = pd.Series(tf.index, index=tf['movieName'])"
   ]
  },
  {
   "cell_type": "code",
   "execution_count": 33,
   "id": "dac7231c",
   "metadata": {},
   "outputs": [],
   "source": [
    "def get_recommendations(searchItem):\n",
    "    any((title := s).startswith(searchItem) for s in tf.movieName)\n",
    "    idx = indices[title]\n",
    "    sim_scores = list(enumerate(cosine_sim[idx]))\n",
    "    sim_scores = sorted(sim_scores, key=lambda x: x[1], reverse=True)\n",
    "    sim_scores = sim_scores[1:21]\n",
    "    movie_indices = [i[0] for i in sim_scores]\n",
    "    df = pd.DataFrame(sim_scores, columns =['idx', 'sim_scores'])\n",
    "    df = df.set_index(\"idx\")\n",
    "    df2 = df.merge(titles.iloc[movie_indices].to_frame(), left_index=True, right_index=True)\n",
    "    return print(f'--- Searched for: {title} ---\\n\\nRecommendations:\\n{df2[[\"movieName\", \"sim_scores\"]]}')\n"
   ]
  },
  {
   "cell_type": "code",
   "execution_count": 34,
   "id": "485eacaa",
   "metadata": {
    "scrolled": false
   },
   "outputs": [
    {
     "name": "stdout",
     "output_type": "stream",
     "text": [
      "--- Searched for: Ex Machina ---\n",
      "\n",
      "Recommendations:\n",
      "                         movieName  sim_scores\n",
      "513                        Chappie    0.513092\n",
      "4871                     Pass-Thru    0.471539\n",
      "9100                            Ta    0.449297\n",
      "2724                       Uncanny    0.424846\n",
      "6728                    Amelia 2.0    0.423528\n",
      "261            Autómata (Automata)    0.412459\n",
      "7222                   Singularity    0.407655\n",
      "5962                        Somnio    0.384374\n",
      "7751                       AlphaGo    0.379739\n",
      "9095           2036 Origin Unknown    0.375084\n",
      "68                   Transcendence    0.372376\n",
      "1304                         Debug    0.362378\n",
      "721                           Vice    0.361531\n",
      "10498                A Crimson Man    0.342863\n",
      "7779              The God Question    0.307450\n",
      "5677                       Teleios    0.290876\n",
      "8492   Do You Trust this Computer?    0.290820\n",
      "9026                       Upgrade    0.285853\n",
      "34                    Interstellar    0.277124\n",
      "3997                        Morgan    0.273019\n"
     ]
    }
   ],
   "source": [
    "get_recommendations('Ex M')"
   ]
  },
  {
   "cell_type": "code",
   "execution_count": null,
   "id": "c92a1cac",
   "metadata": {},
   "outputs": [],
   "source": []
  }
 ],
 "metadata": {
  "kernelspec": {
   "display_name": "Python 3 (ipykernel)",
   "language": "python",
   "name": "python3"
  },
  "language_info": {
   "codemirror_mode": {
    "name": "ipython",
    "version": 3
   },
   "file_extension": ".py",
   "mimetype": "text/x-python",
   "name": "python",
   "nbconvert_exporter": "python",
   "pygments_lexer": "ipython3",
   "version": "3.9.12"
  }
 },
 "nbformat": 4,
 "nbformat_minor": 5
}
